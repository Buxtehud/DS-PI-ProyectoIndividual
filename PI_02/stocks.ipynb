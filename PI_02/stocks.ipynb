{
 "cells": [
  {
   "cell_type": "code",
   "execution_count": 14,
   "outputs": [],
   "source": [
    "import yfinance as yf\n",
    "import pandas as pd\n",
    "import numpy as pd"
   ],
   "metadata": {
    "collapsed": false,
    "pycharm": {
     "name": "#%%\n"
    }
   }
  },
  {
   "cell_type": "code",
   "execution_count": 18,
   "outputs": [],
   "source": [
    "msft1 = yf.Ticker(\"MSFT\")"
   ],
   "metadata": {
    "collapsed": false,
    "pycharm": {
     "name": "#%%\n"
    }
   }
  },
  {
   "cell_type": "code",
   "execution_count": 19,
   "outputs": [],
   "source": [
    "msft = msft1.history(start='2000-01-01', end='2021-12-31')"
   ],
   "metadata": {
    "collapsed": false,
    "pycharm": {
     "name": "#%%\n"
    }
   }
  },
  {
   "cell_type": "code",
   "execution_count": 20,
   "outputs": [],
   "source": [
    "msft.insert(0,'Symbol', 'MSFT')\n",
    "msft.insert(1,'Sector', msft1.info['sector'])\n",
    "msft.reset_index(inplace=True)"
   ],
   "metadata": {
    "collapsed": false,
    "pycharm": {
     "name": "#%%\n"
    }
   }
  },
  {
   "cell_type": "code",
   "execution_count": 21,
   "outputs": [
    {
     "data": {
      "text/plain": "           Date Symbol      Sector        Open        High         Low  \\\n0    2000-01-03   MSFT  Technology   36.888323   37.281170   35.199082   \n1    2000-01-04   MSFT  Technology   35.690124   36.809737   35.277635   \n2    2000-01-05   MSFT  Technology   34.924090   36.574047   34.374105   \n3    2000-01-06   MSFT  Technology   35.258004   35.788348   34.059821   \n4    2000-01-07   MSFT  Technology   34.138395   35.277651   33.725906   \n...         ...    ...         ...         ...         ...         ...   \n5530 2021-12-23   MSFT  Technology  331.291766  334.915829  331.271865   \n5531 2021-12-27   MSFT  Technology  333.989892  340.979147  333.960024   \n5532 2021-12-28   MSFT  Technology  341.646184  342.303295  338.828599   \n5533 2021-12-29   MSFT  Technology  339.804301  342.791154  338.191405   \n5534 2021-12-30   MSFT  Technology  340.411623  341.626278  337.335168   \n\n           Close    Volume  Dividends  Stock Splits  \n0      36.632973  53228400        0.0           0.0  \n1      35.395489  54119000        0.0           0.0  \n2      35.768711  64059600        0.0           0.0  \n3      34.570522  54976600        0.0           0.0  \n4      35.022301  62013600        0.0           0.0  \n...          ...       ...        ...           ...  \n5530  333.223267  19617800        0.0           0.0  \n5531  340.949280  19947000        0.0           0.0  \n5532  339.754517  15661500        0.0           0.0  \n5533  340.451477  15042000        0.0           0.0  \n5534  337.832977  15994500        0.0           0.0  \n\n[5535 rows x 10 columns]",
      "text/html": "<div>\n<style scoped>\n    .dataframe tbody tr th:only-of-type {\n        vertical-align: middle;\n    }\n\n    .dataframe tbody tr th {\n        vertical-align: top;\n    }\n\n    .dataframe thead th {\n        text-align: right;\n    }\n</style>\n<table border=\"1\" class=\"dataframe\">\n  <thead>\n    <tr style=\"text-align: right;\">\n      <th></th>\n      <th>Date</th>\n      <th>Symbol</th>\n      <th>Sector</th>\n      <th>Open</th>\n      <th>High</th>\n      <th>Low</th>\n      <th>Close</th>\n      <th>Volume</th>\n      <th>Dividends</th>\n      <th>Stock Splits</th>\n    </tr>\n  </thead>\n  <tbody>\n    <tr>\n      <th>0</th>\n      <td>2000-01-03</td>\n      <td>MSFT</td>\n      <td>Technology</td>\n      <td>36.888323</td>\n      <td>37.281170</td>\n      <td>35.199082</td>\n      <td>36.632973</td>\n      <td>53228400</td>\n      <td>0.0</td>\n      <td>0.0</td>\n    </tr>\n    <tr>\n      <th>1</th>\n      <td>2000-01-04</td>\n      <td>MSFT</td>\n      <td>Technology</td>\n      <td>35.690124</td>\n      <td>36.809737</td>\n      <td>35.277635</td>\n      <td>35.395489</td>\n      <td>54119000</td>\n      <td>0.0</td>\n      <td>0.0</td>\n    </tr>\n    <tr>\n      <th>2</th>\n      <td>2000-01-05</td>\n      <td>MSFT</td>\n      <td>Technology</td>\n      <td>34.924090</td>\n      <td>36.574047</td>\n      <td>34.374105</td>\n      <td>35.768711</td>\n      <td>64059600</td>\n      <td>0.0</td>\n      <td>0.0</td>\n    </tr>\n    <tr>\n      <th>3</th>\n      <td>2000-01-06</td>\n      <td>MSFT</td>\n      <td>Technology</td>\n      <td>35.258004</td>\n      <td>35.788348</td>\n      <td>34.059821</td>\n      <td>34.570522</td>\n      <td>54976600</td>\n      <td>0.0</td>\n      <td>0.0</td>\n    </tr>\n    <tr>\n      <th>4</th>\n      <td>2000-01-07</td>\n      <td>MSFT</td>\n      <td>Technology</td>\n      <td>34.138395</td>\n      <td>35.277651</td>\n      <td>33.725906</td>\n      <td>35.022301</td>\n      <td>62013600</td>\n      <td>0.0</td>\n      <td>0.0</td>\n    </tr>\n    <tr>\n      <th>...</th>\n      <td>...</td>\n      <td>...</td>\n      <td>...</td>\n      <td>...</td>\n      <td>...</td>\n      <td>...</td>\n      <td>...</td>\n      <td>...</td>\n      <td>...</td>\n      <td>...</td>\n    </tr>\n    <tr>\n      <th>5530</th>\n      <td>2021-12-23</td>\n      <td>MSFT</td>\n      <td>Technology</td>\n      <td>331.291766</td>\n      <td>334.915829</td>\n      <td>331.271865</td>\n      <td>333.223267</td>\n      <td>19617800</td>\n      <td>0.0</td>\n      <td>0.0</td>\n    </tr>\n    <tr>\n      <th>5531</th>\n      <td>2021-12-27</td>\n      <td>MSFT</td>\n      <td>Technology</td>\n      <td>333.989892</td>\n      <td>340.979147</td>\n      <td>333.960024</td>\n      <td>340.949280</td>\n      <td>19947000</td>\n      <td>0.0</td>\n      <td>0.0</td>\n    </tr>\n    <tr>\n      <th>5532</th>\n      <td>2021-12-28</td>\n      <td>MSFT</td>\n      <td>Technology</td>\n      <td>341.646184</td>\n      <td>342.303295</td>\n      <td>338.828599</td>\n      <td>339.754517</td>\n      <td>15661500</td>\n      <td>0.0</td>\n      <td>0.0</td>\n    </tr>\n    <tr>\n      <th>5533</th>\n      <td>2021-12-29</td>\n      <td>MSFT</td>\n      <td>Technology</td>\n      <td>339.804301</td>\n      <td>342.791154</td>\n      <td>338.191405</td>\n      <td>340.451477</td>\n      <td>15042000</td>\n      <td>0.0</td>\n      <td>0.0</td>\n    </tr>\n    <tr>\n      <th>5534</th>\n      <td>2021-12-30</td>\n      <td>MSFT</td>\n      <td>Technology</td>\n      <td>340.411623</td>\n      <td>341.626278</td>\n      <td>337.335168</td>\n      <td>337.832977</td>\n      <td>15994500</td>\n      <td>0.0</td>\n      <td>0.0</td>\n    </tr>\n  </tbody>\n</table>\n<p>5535 rows × 10 columns</p>\n</div>"
     },
     "execution_count": 21,
     "metadata": {},
     "output_type": "execute_result"
    }
   ],
   "source": [
    "msft"
   ],
   "metadata": {
    "collapsed": false,
    "pycharm": {
     "name": "#%%\n"
    }
   }
  },
  {
   "cell_type": "code",
   "execution_count": 35,
   "outputs": [
    {
     "data": {
      "text/plain": "                                            2021-06-30      2020-06-30  \\\nResearch Development                     20716000000.0   19269000000.0   \nEffect Of Accounting Charges                      None            None   \nIncome Before Tax                        71102000000.0   53036000000.0   \nMinority Interest                                 None            None   \nNet Income                               61271000000.0   44281000000.0   \nSelling General Administrative           25224000000.0   24523000000.0   \nGross Profit                            115856000000.0   96937000000.0   \nEbit                                     69916000000.0   53145000000.0   \nOperating Income                         69916000000.0   53145000000.0   \nOther Operating Expenses                          None            None   \nInterest Expense                         -2330000000.0   -2591000000.0   \nExtraordinary Items                               None            None   \nNon Recurring                                     None            None   \nOther Items                                       None            None   \nIncome Tax Expense                        9831000000.0    8755000000.0   \nTotal Revenue                           168088000000.0  143015000000.0   \nTotal Operating Expenses                 98172000000.0   89870000000.0   \nCost Of Revenue                          52232000000.0   46078000000.0   \nTotal Other Income Expense Net            1186000000.0    -109000000.0   \nDiscontinued Operations                           None            None   \nNet Income From Continuing Ops           61271000000.0   44281000000.0   \nNet Income Applicable To Common Shares   61271000000.0   44281000000.0   \n\n                                            2019-06-30      2018-06-30  \nResearch Development                     16876000000.0   14726000000.0  \nEffect Of Accounting Charges                      None            None  \nIncome Before Tax                        43688000000.0   36474000000.0  \nMinority Interest                                 None            None  \nNet Income                               39240000000.0   16571000000.0  \nSelling General Administrative           23098000000.0   22223000000.0  \nGross Profit                             82933000000.0   72007000000.0  \nEbit                                     42959000000.0   35058000000.0  \nOperating Income                         42959000000.0   35058000000.0  \nOther Operating Expenses                          None            None  \nInterest Expense                         -2686000000.0   -2733000000.0  \nExtraordinary Items                               None            None  \nNon Recurring                                     None            None  \nOther Items                                       None            None  \nIncome Tax Expense                        4448000000.0   19903000000.0  \nTotal Revenue                           125843000000.0  110360000000.0  \nTotal Operating Expenses                 82884000000.0   75302000000.0  \nCost Of Revenue                          42910000000.0   38353000000.0  \nTotal Other Income Expense Net             729000000.0    1416000000.0  \nDiscontinued Operations                           None            None  \nNet Income From Continuing Ops           39240000000.0   16571000000.0  \nNet Income Applicable To Common Shares   39240000000.0   16571000000.0  ",
      "text/html": "<div>\n<style scoped>\n    .dataframe tbody tr th:only-of-type {\n        vertical-align: middle;\n    }\n\n    .dataframe tbody tr th {\n        vertical-align: top;\n    }\n\n    .dataframe thead th {\n        text-align: right;\n    }\n</style>\n<table border=\"1\" class=\"dataframe\">\n  <thead>\n    <tr style=\"text-align: right;\">\n      <th></th>\n      <th>2021-06-30</th>\n      <th>2020-06-30</th>\n      <th>2019-06-30</th>\n      <th>2018-06-30</th>\n    </tr>\n  </thead>\n  <tbody>\n    <tr>\n      <th>Research Development</th>\n      <td>20716000000.0</td>\n      <td>19269000000.0</td>\n      <td>16876000000.0</td>\n      <td>14726000000.0</td>\n    </tr>\n    <tr>\n      <th>Effect Of Accounting Charges</th>\n      <td>None</td>\n      <td>None</td>\n      <td>None</td>\n      <td>None</td>\n    </tr>\n    <tr>\n      <th>Income Before Tax</th>\n      <td>71102000000.0</td>\n      <td>53036000000.0</td>\n      <td>43688000000.0</td>\n      <td>36474000000.0</td>\n    </tr>\n    <tr>\n      <th>Minority Interest</th>\n      <td>None</td>\n      <td>None</td>\n      <td>None</td>\n      <td>None</td>\n    </tr>\n    <tr>\n      <th>Net Income</th>\n      <td>61271000000.0</td>\n      <td>44281000000.0</td>\n      <td>39240000000.0</td>\n      <td>16571000000.0</td>\n    </tr>\n    <tr>\n      <th>Selling General Administrative</th>\n      <td>25224000000.0</td>\n      <td>24523000000.0</td>\n      <td>23098000000.0</td>\n      <td>22223000000.0</td>\n    </tr>\n    <tr>\n      <th>Gross Profit</th>\n      <td>115856000000.0</td>\n      <td>96937000000.0</td>\n      <td>82933000000.0</td>\n      <td>72007000000.0</td>\n    </tr>\n    <tr>\n      <th>Ebit</th>\n      <td>69916000000.0</td>\n      <td>53145000000.0</td>\n      <td>42959000000.0</td>\n      <td>35058000000.0</td>\n    </tr>\n    <tr>\n      <th>Operating Income</th>\n      <td>69916000000.0</td>\n      <td>53145000000.0</td>\n      <td>42959000000.0</td>\n      <td>35058000000.0</td>\n    </tr>\n    <tr>\n      <th>Other Operating Expenses</th>\n      <td>None</td>\n      <td>None</td>\n      <td>None</td>\n      <td>None</td>\n    </tr>\n    <tr>\n      <th>Interest Expense</th>\n      <td>-2330000000.0</td>\n      <td>-2591000000.0</td>\n      <td>-2686000000.0</td>\n      <td>-2733000000.0</td>\n    </tr>\n    <tr>\n      <th>Extraordinary Items</th>\n      <td>None</td>\n      <td>None</td>\n      <td>None</td>\n      <td>None</td>\n    </tr>\n    <tr>\n      <th>Non Recurring</th>\n      <td>None</td>\n      <td>None</td>\n      <td>None</td>\n      <td>None</td>\n    </tr>\n    <tr>\n      <th>Other Items</th>\n      <td>None</td>\n      <td>None</td>\n      <td>None</td>\n      <td>None</td>\n    </tr>\n    <tr>\n      <th>Income Tax Expense</th>\n      <td>9831000000.0</td>\n      <td>8755000000.0</td>\n      <td>4448000000.0</td>\n      <td>19903000000.0</td>\n    </tr>\n    <tr>\n      <th>Total Revenue</th>\n      <td>168088000000.0</td>\n      <td>143015000000.0</td>\n      <td>125843000000.0</td>\n      <td>110360000000.0</td>\n    </tr>\n    <tr>\n      <th>Total Operating Expenses</th>\n      <td>98172000000.0</td>\n      <td>89870000000.0</td>\n      <td>82884000000.0</td>\n      <td>75302000000.0</td>\n    </tr>\n    <tr>\n      <th>Cost Of Revenue</th>\n      <td>52232000000.0</td>\n      <td>46078000000.0</td>\n      <td>42910000000.0</td>\n      <td>38353000000.0</td>\n    </tr>\n    <tr>\n      <th>Total Other Income Expense Net</th>\n      <td>1186000000.0</td>\n      <td>-109000000.0</td>\n      <td>729000000.0</td>\n      <td>1416000000.0</td>\n    </tr>\n    <tr>\n      <th>Discontinued Operations</th>\n      <td>None</td>\n      <td>None</td>\n      <td>None</td>\n      <td>None</td>\n    </tr>\n    <tr>\n      <th>Net Income From Continuing Ops</th>\n      <td>61271000000.0</td>\n      <td>44281000000.0</td>\n      <td>39240000000.0</td>\n      <td>16571000000.0</td>\n    </tr>\n    <tr>\n      <th>Net Income Applicable To Common Shares</th>\n      <td>61271000000.0</td>\n      <td>44281000000.0</td>\n      <td>39240000000.0</td>\n      <td>16571000000.0</td>\n    </tr>\n  </tbody>\n</table>\n</div>"
     },
     "execution_count": 35,
     "metadata": {},
     "output_type": "execute_result"
    }
   ],
   "source": [
    "msft1.financials"
   ],
   "metadata": {
    "collapsed": false,
    "pycharm": {
     "name": "#%%\n"
    }
   }
  },
  {
   "cell_type": "code",
   "execution_count": 8,
   "outputs": [
    {
     "data": {
      "text/plain": "                                    2021-06-30    2020-06-30    2019-06-30  \\\nIntangible Assets                 7.800000e+09  7.038000e+09  7.750000e+09   \nTotal Liab                        1.917910e+11  1.830070e+11  1.842260e+11   \nTotal Stockholder Equity          1.419880e+11  1.183040e+11  1.023300e+11   \nOther Current Liab                5.261200e+10  4.600100e+10  4.586000e+10   \nTotal Assets                      3.337790e+11  3.013110e+11  2.865560e+11   \nCommon Stock                      8.311100e+10  8.055200e+10  7.852000e+10   \nOther Current Assets              1.347100e+10  1.151700e+10  1.013300e+10   \nRetained Earnings                 5.705500e+10  3.456600e+10  2.415000e+10   \nOther Liab                        3.168100e+10  3.449200e+10  3.569900e+10   \nGood Will                         4.971100e+10  4.335100e+10  4.202600e+10   \nTreasury Stock                    1.822000e+09  3.186000e+09 -3.400000e+08   \nOther Assets                      1.507500e+10  1.313800e+10  1.472300e+10   \nCash                              1.422400e+10  1.357600e+10  1.135600e+10   \nTotal Current Liabilities         8.865700e+10  7.231000e+10  6.942000e+10   \nDeferred Long Term Asset Charges  7.181000e+09  6.405000e+09  7.536000e+09   \nShort Long Term Debt              8.072000e+09  3.749000e+09  5.516000e+09   \nOther Stockholder Equity          1.822000e+09  3.186000e+09 -3.400000e+08   \nProperty Plant Equipment          7.080300e+10  5.290400e+10  4.385600e+10   \nTotal Current Assets              1.844060e+11  1.819150e+11  1.755520e+11   \nLong Term Investments             5.984000e+09  2.965000e+09  2.649000e+09   \nNet Tangible Assets               8.447700e+10  6.791500e+10  5.255400e+10   \nShort Term Investments            1.160320e+11  1.229160e+11  1.224760e+11   \nNet Receivables                   3.804300e+10  3.201100e+10  2.952400e+10   \nLong Term Debt                    5.007400e+10  5.957800e+10  6.666200e+10   \nInventory                         2.636000e+09  1.895000e+09  2.063000e+09   \nAccounts Payable                  1.516300e+10  1.253000e+10  9.382000e+09   \n\n                                    2018-06-30  \nIntangible Assets                 8.053000e+09  \nTotal Liab                        1.761300e+11  \nTotal Stockholder Equity          8.271800e+10  \nOther Current Liab                3.819500e+10  \nTotal Assets                      2.588480e+11  \nCommon Stock                      7.122300e+10  \nOther Current Assets              6.855000e+09  \nRetained Earnings                 1.368200e+10  \nOther Liab                        3.570700e+10  \nGood Will                         3.568300e+10  \nTreasury Stock                   -2.187000e+09  \nOther Assets                      7.442000e+09  \nCash                              1.194600e+10  \nTotal Current Liabilities         5.848800e+10  \nDeferred Long Term Asset Charges  1.369000e+09  \nShort Long Term Debt              3.998000e+09  \nOther Stockholder Equity         -2.187000e+09  \nProperty Plant Equipment          3.614600e+10  \nTotal Current Assets              1.696620e+11  \nLong Term Investments             1.862000e+09  \nNet Tangible Assets               3.898200e+10  \nShort Term Investments            1.217180e+11  \nNet Receivables                   2.648100e+10  \nLong Term Debt                    7.224200e+10  \nInventory                         2.662000e+09  \nAccounts Payable                  8.617000e+09  ",
      "text/html": "<div>\n<style scoped>\n    .dataframe tbody tr th:only-of-type {\n        vertical-align: middle;\n    }\n\n    .dataframe tbody tr th {\n        vertical-align: top;\n    }\n\n    .dataframe thead th {\n        text-align: right;\n    }\n</style>\n<table border=\"1\" class=\"dataframe\">\n  <thead>\n    <tr style=\"text-align: right;\">\n      <th></th>\n      <th>2021-06-30</th>\n      <th>2020-06-30</th>\n      <th>2019-06-30</th>\n      <th>2018-06-30</th>\n    </tr>\n  </thead>\n  <tbody>\n    <tr>\n      <th>Intangible Assets</th>\n      <td>7.800000e+09</td>\n      <td>7.038000e+09</td>\n      <td>7.750000e+09</td>\n      <td>8.053000e+09</td>\n    </tr>\n    <tr>\n      <th>Total Liab</th>\n      <td>1.917910e+11</td>\n      <td>1.830070e+11</td>\n      <td>1.842260e+11</td>\n      <td>1.761300e+11</td>\n    </tr>\n    <tr>\n      <th>Total Stockholder Equity</th>\n      <td>1.419880e+11</td>\n      <td>1.183040e+11</td>\n      <td>1.023300e+11</td>\n      <td>8.271800e+10</td>\n    </tr>\n    <tr>\n      <th>Other Current Liab</th>\n      <td>5.261200e+10</td>\n      <td>4.600100e+10</td>\n      <td>4.586000e+10</td>\n      <td>3.819500e+10</td>\n    </tr>\n    <tr>\n      <th>Total Assets</th>\n      <td>3.337790e+11</td>\n      <td>3.013110e+11</td>\n      <td>2.865560e+11</td>\n      <td>2.588480e+11</td>\n    </tr>\n    <tr>\n      <th>Common Stock</th>\n      <td>8.311100e+10</td>\n      <td>8.055200e+10</td>\n      <td>7.852000e+10</td>\n      <td>7.122300e+10</td>\n    </tr>\n    <tr>\n      <th>Other Current Assets</th>\n      <td>1.347100e+10</td>\n      <td>1.151700e+10</td>\n      <td>1.013300e+10</td>\n      <td>6.855000e+09</td>\n    </tr>\n    <tr>\n      <th>Retained Earnings</th>\n      <td>5.705500e+10</td>\n      <td>3.456600e+10</td>\n      <td>2.415000e+10</td>\n      <td>1.368200e+10</td>\n    </tr>\n    <tr>\n      <th>Other Liab</th>\n      <td>3.168100e+10</td>\n      <td>3.449200e+10</td>\n      <td>3.569900e+10</td>\n      <td>3.570700e+10</td>\n    </tr>\n    <tr>\n      <th>Good Will</th>\n      <td>4.971100e+10</td>\n      <td>4.335100e+10</td>\n      <td>4.202600e+10</td>\n      <td>3.568300e+10</td>\n    </tr>\n    <tr>\n      <th>Treasury Stock</th>\n      <td>1.822000e+09</td>\n      <td>3.186000e+09</td>\n      <td>-3.400000e+08</td>\n      <td>-2.187000e+09</td>\n    </tr>\n    <tr>\n      <th>Other Assets</th>\n      <td>1.507500e+10</td>\n      <td>1.313800e+10</td>\n      <td>1.472300e+10</td>\n      <td>7.442000e+09</td>\n    </tr>\n    <tr>\n      <th>Cash</th>\n      <td>1.422400e+10</td>\n      <td>1.357600e+10</td>\n      <td>1.135600e+10</td>\n      <td>1.194600e+10</td>\n    </tr>\n    <tr>\n      <th>Total Current Liabilities</th>\n      <td>8.865700e+10</td>\n      <td>7.231000e+10</td>\n      <td>6.942000e+10</td>\n      <td>5.848800e+10</td>\n    </tr>\n    <tr>\n      <th>Deferred Long Term Asset Charges</th>\n      <td>7.181000e+09</td>\n      <td>6.405000e+09</td>\n      <td>7.536000e+09</td>\n      <td>1.369000e+09</td>\n    </tr>\n    <tr>\n      <th>Short Long Term Debt</th>\n      <td>8.072000e+09</td>\n      <td>3.749000e+09</td>\n      <td>5.516000e+09</td>\n      <td>3.998000e+09</td>\n    </tr>\n    <tr>\n      <th>Other Stockholder Equity</th>\n      <td>1.822000e+09</td>\n      <td>3.186000e+09</td>\n      <td>-3.400000e+08</td>\n      <td>-2.187000e+09</td>\n    </tr>\n    <tr>\n      <th>Property Plant Equipment</th>\n      <td>7.080300e+10</td>\n      <td>5.290400e+10</td>\n      <td>4.385600e+10</td>\n      <td>3.614600e+10</td>\n    </tr>\n    <tr>\n      <th>Total Current Assets</th>\n      <td>1.844060e+11</td>\n      <td>1.819150e+11</td>\n      <td>1.755520e+11</td>\n      <td>1.696620e+11</td>\n    </tr>\n    <tr>\n      <th>Long Term Investments</th>\n      <td>5.984000e+09</td>\n      <td>2.965000e+09</td>\n      <td>2.649000e+09</td>\n      <td>1.862000e+09</td>\n    </tr>\n    <tr>\n      <th>Net Tangible Assets</th>\n      <td>8.447700e+10</td>\n      <td>6.791500e+10</td>\n      <td>5.255400e+10</td>\n      <td>3.898200e+10</td>\n    </tr>\n    <tr>\n      <th>Short Term Investments</th>\n      <td>1.160320e+11</td>\n      <td>1.229160e+11</td>\n      <td>1.224760e+11</td>\n      <td>1.217180e+11</td>\n    </tr>\n    <tr>\n      <th>Net Receivables</th>\n      <td>3.804300e+10</td>\n      <td>3.201100e+10</td>\n      <td>2.952400e+10</td>\n      <td>2.648100e+10</td>\n    </tr>\n    <tr>\n      <th>Long Term Debt</th>\n      <td>5.007400e+10</td>\n      <td>5.957800e+10</td>\n      <td>6.666200e+10</td>\n      <td>7.224200e+10</td>\n    </tr>\n    <tr>\n      <th>Inventory</th>\n      <td>2.636000e+09</td>\n      <td>1.895000e+09</td>\n      <td>2.063000e+09</td>\n      <td>2.662000e+09</td>\n    </tr>\n    <tr>\n      <th>Accounts Payable</th>\n      <td>1.516300e+10</td>\n      <td>1.253000e+10</td>\n      <td>9.382000e+09</td>\n      <td>8.617000e+09</td>\n    </tr>\n  </tbody>\n</table>\n</div>"
     },
     "execution_count": 8,
     "metadata": {},
     "output_type": "execute_result"
    }
   ],
   "source": [
    "msft1.balance_sheet"
   ],
   "metadata": {
    "collapsed": false,
    "pycharm": {
     "name": "#%%\n"
    }
   }
  },
  {
   "cell_type": "code",
   "execution_count": 12,
   "outputs": [
    {
     "data": {
      "text/plain": "'Technology'"
     },
     "execution_count": 12,
     "metadata": {},
     "output_type": "execute_result"
    }
   ],
   "source": [
    "msft1.info['sector']"
   ],
   "metadata": {
    "collapsed": false,
    "pycharm": {
     "name": "#%%\n"
    }
   }
  }
 ],
 "metadata": {
  "kernelspec": {
   "display_name": "Python 3",
   "language": "python",
   "name": "python3"
  },
  "language_info": {
   "codemirror_mode": {
    "name": "ipython",
    "version": 2
   },
   "file_extension": ".py",
   "mimetype": "text/x-python",
   "name": "python",
   "nbconvert_exporter": "python",
   "pygments_lexer": "ipython2",
   "version": "2.7.6"
  }
 },
 "nbformat": 4,
 "nbformat_minor": 0
}