{
 "cells": [
  {
   "cell_type": "code",
   "execution_count": 93,
   "metadata": {
    "collapsed": true,
    "pycharm": {
     "name": "#%%\n"
    }
   },
   "outputs": [],
   "source": [
    "import pandas as pd\n",
    "import numpy as np\n",
    "import matplotlib.pyplot as plt\n",
    "import seaborn as sns\n",
    "from fuzzywuzzy import fuzz"
   ]
  },
  {
   "cell_type": "code",
   "execution_count": 94,
   "outputs": [],
   "source": [
    "df_canal = pd.read_csv('./Datasets/CanalDeVenta.csv')\n",
    "df_clientes = pd.read_csv('./Datasets/Clientes.csv', delimiter=';', encoding='utf-8')\n",
    "df_compra = pd.read_csv('./Datasets/Compra.csv')\n",
    "df_gasto = pd.read_csv('./Datasets/Gasto.csv')\n",
    "df_local = pd.read_csv('./Datasets/Localidades.csv')\n",
    "df_prov = pd.read_csv('./Datasets/Proveedores.csv', encoding='iso-8859-1')\n",
    "df_suc = pd.read_csv('./Datasets/Sucursales.csv', delimiter=';')\n",
    "df_tipo = pd.read_csv('./Datasets/TiposDeGasto.csv')\n",
    "df_venta = pd.read_csv('./Datasets/Venta.csv')"
   ],
   "metadata": {
    "collapsed": false,
    "pycharm": {
     "name": "#%%\n"
    }
   }
  },
  {
   "cell_type": "markdown",
   "source": [
    "# Tabla Venta"
   ],
   "metadata": {
    "collapsed": false,
    "pycharm": {
     "name": "#%% md\n"
    }
   }
  },
  {
   "cell_type": "code",
   "execution_count": 95,
   "outputs": [
    {
     "data": {
      "text/plain": "            IdVenta       IdCanal     IdCliente    IdSucursal    IdEmpleado  \\\ncount  46180.000000  46180.000000  46180.000000  46180.000000  46180.000000   \nmean   23151.534279      2.018038   1502.635232     14.782352   2488.830858   \nstd    13432.585938      0.745254    972.536404      8.876539    960.231933   \nmin        1.000000      1.000000      1.000000      1.000000   1011.000000   \n25%    11545.750000      1.000000    691.000000      7.000000   1574.000000   \n50%    23090.500000      2.000000   1359.000000     15.000000   2468.000000   \n75%    34635.250000      3.000000   2273.000000     23.000000   3433.000000   \nmax    47600.000000      3.000000   3407.000000     31.000000   3979.000000   \n\n         IdProducto        Precio      Cantidad  \ncount  46180.000000  4.526000e+04  45296.000000  \nmean   42901.264379  5.876587e+03      2.388246  \nstd       83.588487  2.510651e+05      3.562045  \nmin    42737.000000  3.000000e+00      1.000000  \n25%    42833.000000  4.380000e+02      2.000000  \n50%    42902.000000  6.540000e+02      2.000000  \n75%    42974.000000  1.789000e+03      3.000000  \nmax    43043.000000  3.373920e+07    300.000000  ",
      "text/html": "<div>\n<style scoped>\n    .dataframe tbody tr th:only-of-type {\n        vertical-align: middle;\n    }\n\n    .dataframe tbody tr th {\n        vertical-align: top;\n    }\n\n    .dataframe thead th {\n        text-align: right;\n    }\n</style>\n<table border=\"1\" class=\"dataframe\">\n  <thead>\n    <tr style=\"text-align: right;\">\n      <th></th>\n      <th>IdVenta</th>\n      <th>IdCanal</th>\n      <th>IdCliente</th>\n      <th>IdSucursal</th>\n      <th>IdEmpleado</th>\n      <th>IdProducto</th>\n      <th>Precio</th>\n      <th>Cantidad</th>\n    </tr>\n  </thead>\n  <tbody>\n    <tr>\n      <th>count</th>\n      <td>46180.000000</td>\n      <td>46180.000000</td>\n      <td>46180.000000</td>\n      <td>46180.000000</td>\n      <td>46180.000000</td>\n      <td>46180.000000</td>\n      <td>4.526000e+04</td>\n      <td>45296.000000</td>\n    </tr>\n    <tr>\n      <th>mean</th>\n      <td>23151.534279</td>\n      <td>2.018038</td>\n      <td>1502.635232</td>\n      <td>14.782352</td>\n      <td>2488.830858</td>\n      <td>42901.264379</td>\n      <td>5.876587e+03</td>\n      <td>2.388246</td>\n    </tr>\n    <tr>\n      <th>std</th>\n      <td>13432.585938</td>\n      <td>0.745254</td>\n      <td>972.536404</td>\n      <td>8.876539</td>\n      <td>960.231933</td>\n      <td>83.588487</td>\n      <td>2.510651e+05</td>\n      <td>3.562045</td>\n    </tr>\n    <tr>\n      <th>min</th>\n      <td>1.000000</td>\n      <td>1.000000</td>\n      <td>1.000000</td>\n      <td>1.000000</td>\n      <td>1011.000000</td>\n      <td>42737.000000</td>\n      <td>3.000000e+00</td>\n      <td>1.000000</td>\n    </tr>\n    <tr>\n      <th>25%</th>\n      <td>11545.750000</td>\n      <td>1.000000</td>\n      <td>691.000000</td>\n      <td>7.000000</td>\n      <td>1574.000000</td>\n      <td>42833.000000</td>\n      <td>4.380000e+02</td>\n      <td>2.000000</td>\n    </tr>\n    <tr>\n      <th>50%</th>\n      <td>23090.500000</td>\n      <td>2.000000</td>\n      <td>1359.000000</td>\n      <td>15.000000</td>\n      <td>2468.000000</td>\n      <td>42902.000000</td>\n      <td>6.540000e+02</td>\n      <td>2.000000</td>\n    </tr>\n    <tr>\n      <th>75%</th>\n      <td>34635.250000</td>\n      <td>3.000000</td>\n      <td>2273.000000</td>\n      <td>23.000000</td>\n      <td>3433.000000</td>\n      <td>42974.000000</td>\n      <td>1.789000e+03</td>\n      <td>3.000000</td>\n    </tr>\n    <tr>\n      <th>max</th>\n      <td>47600.000000</td>\n      <td>3.000000</td>\n      <td>3407.000000</td>\n      <td>31.000000</td>\n      <td>3979.000000</td>\n      <td>43043.000000</td>\n      <td>3.373920e+07</td>\n      <td>300.000000</td>\n    </tr>\n  </tbody>\n</table>\n</div>"
     },
     "execution_count": 95,
     "metadata": {},
     "output_type": "execute_result"
    }
   ],
   "source": [
    "df_venta.describe()"
   ],
   "metadata": {
    "collapsed": false,
    "pycharm": {
     "name": "#%%\n"
    }
   }
  },
  {
   "cell_type": "code",
   "execution_count": 96,
   "outputs": [],
   "source": [
    "productos = [x for x in df_venta['IdProducto'].unique()]"
   ],
   "metadata": {
    "collapsed": false,
    "pycharm": {
     "name": "#%%\n"
    }
   }
  },
  {
   "cell_type": "code",
   "execution_count": 97,
   "outputs": [],
   "source": [
    "def get_moda(df, element_id, referencia, target):\n",
    "    \"\"\"Obtiene la moda de una columna target filtrando a través de la columna referencia\"\"\"\n",
    "    df_moda = df[df[referencia] == element_id].mode()\n",
    "    return df_moda[target][0]"
   ],
   "metadata": {
    "collapsed": false,
    "pycharm": {
     "name": "#%%\n"
    }
   }
  },
  {
   "cell_type": "code",
   "execution_count": 98,
   "outputs": [],
   "source": [
    "def input_moda(df, element_id, referencia, target):\n",
    "    \"\"\"Cambia todos los valores de las columnas al valor de la moda\"\"\"\n",
    "    moda = get_moda(df, element_id, referencia, target)\n",
    "    df.loc[(df[target] != moda) & (df[referencia] == element_id), target] = moda"
   ],
   "metadata": {
    "collapsed": false,
    "pycharm": {
     "name": "#%%\n"
    }
   }
  },
  {
   "cell_type": "code",
   "execution_count": 99,
   "outputs": [],
   "source": [
    "for product in productos:\n",
    "    input_moda(df_venta, product, 'IdProducto', 'Precio')"
   ],
   "metadata": {
    "collapsed": false,
    "pycharm": {
     "name": "#%%\n"
    }
   }
  },
  {
   "cell_type": "code",
   "execution_count": 100,
   "outputs": [
    {
     "name": "stdout",
     "output_type": "stream",
     "text": [
      "<class 'pandas.core.frame.DataFrame'>\n",
      "RangeIndex: 46180 entries, 0 to 46179\n",
      "Data columns (total 10 columns):\n",
      " #   Column         Non-Null Count  Dtype  \n",
      "---  ------         --------------  -----  \n",
      " 0   IdVenta        46180 non-null  int64  \n",
      " 1   Fecha          46180 non-null  object \n",
      " 2   Fecha_Entrega  46180 non-null  object \n",
      " 3   IdCanal        46180 non-null  int64  \n",
      " 4   IdCliente      46180 non-null  int64  \n",
      " 5   IdSucursal     46180 non-null  int64  \n",
      " 6   IdEmpleado     46180 non-null  int64  \n",
      " 7   IdProducto     46180 non-null  int64  \n",
      " 8   Precio         46180 non-null  float64\n",
      " 9   Cantidad       45296 non-null  float64\n",
      "dtypes: float64(2), int64(6), object(2)\n",
      "memory usage: 3.5+ MB\n"
     ]
    }
   ],
   "source": [
    "df_venta.info()"
   ],
   "metadata": {
    "collapsed": false,
    "pycharm": {
     "name": "#%%\n"
    }
   }
  },
  {
   "cell_type": "markdown",
   "source": [
    "# Localidad"
   ],
   "metadata": {
    "collapsed": false,
    "pycharm": {
     "name": "#%% md\n"
    }
   }
  },
  {
   "cell_type": "code",
   "execution_count": 101,
   "outputs": [],
   "source": [
    "df_provincias = df_local.loc[:,['provincia_id','provincia_nombre']].drop_duplicates()"
   ],
   "metadata": {
    "collapsed": false,
    "pycharm": {
     "name": "#%%\n"
    }
   }
  },
  {
   "cell_type": "code",
   "execution_count": 102,
   "outputs": [
    {
     "data": {
      "text/plain": "      provincia_id                                   provincia_nombre\n0                6                                       Buenos Aires\n878             10                                          Catamarca\n1060            14                                            Córdoba\n1628            18                                         Corrientes\n1705            22                                              Chaco\n1795            26                                             Chubut\n1885            30                                         Entre Ríos\n2061            34                                            Formosa\n2125            38                                              Jujuy\n2285            42                                           La Pampa\n2374            46                                           La Rioja\n2466            50                                            Mendoza\n2679            54                                           Misiones\n2819            58                                            Neuquén\n2880            62                                          Río Negro\n3042            66                                              Salta\n3189            70                                           San Juan\n3287            74                                           San Luis\n3380            78                                         Santa Cruz\n3407            82                                           Santa Fe\n3793            86                                Santiago del Estero\n3975            90                                            Tucumán\n4138            94  Tierra del Fuego, Antártida e Islas del Atlánt...",
      "text/html": "<div>\n<style scoped>\n    .dataframe tbody tr th:only-of-type {\n        vertical-align: middle;\n    }\n\n    .dataframe tbody tr th {\n        vertical-align: top;\n    }\n\n    .dataframe thead th {\n        text-align: right;\n    }\n</style>\n<table border=\"1\" class=\"dataframe\">\n  <thead>\n    <tr style=\"text-align: right;\">\n      <th></th>\n      <th>provincia_id</th>\n      <th>provincia_nombre</th>\n    </tr>\n  </thead>\n  <tbody>\n    <tr>\n      <th>0</th>\n      <td>6</td>\n      <td>Buenos Aires</td>\n    </tr>\n    <tr>\n      <th>878</th>\n      <td>10</td>\n      <td>Catamarca</td>\n    </tr>\n    <tr>\n      <th>1060</th>\n      <td>14</td>\n      <td>Córdoba</td>\n    </tr>\n    <tr>\n      <th>1628</th>\n      <td>18</td>\n      <td>Corrientes</td>\n    </tr>\n    <tr>\n      <th>1705</th>\n      <td>22</td>\n      <td>Chaco</td>\n    </tr>\n    <tr>\n      <th>1795</th>\n      <td>26</td>\n      <td>Chubut</td>\n    </tr>\n    <tr>\n      <th>1885</th>\n      <td>30</td>\n      <td>Entre Ríos</td>\n    </tr>\n    <tr>\n      <th>2061</th>\n      <td>34</td>\n      <td>Formosa</td>\n    </tr>\n    <tr>\n      <th>2125</th>\n      <td>38</td>\n      <td>Jujuy</td>\n    </tr>\n    <tr>\n      <th>2285</th>\n      <td>42</td>\n      <td>La Pampa</td>\n    </tr>\n    <tr>\n      <th>2374</th>\n      <td>46</td>\n      <td>La Rioja</td>\n    </tr>\n    <tr>\n      <th>2466</th>\n      <td>50</td>\n      <td>Mendoza</td>\n    </tr>\n    <tr>\n      <th>2679</th>\n      <td>54</td>\n      <td>Misiones</td>\n    </tr>\n    <tr>\n      <th>2819</th>\n      <td>58</td>\n      <td>Neuquén</td>\n    </tr>\n    <tr>\n      <th>2880</th>\n      <td>62</td>\n      <td>Río Negro</td>\n    </tr>\n    <tr>\n      <th>3042</th>\n      <td>66</td>\n      <td>Salta</td>\n    </tr>\n    <tr>\n      <th>3189</th>\n      <td>70</td>\n      <td>San Juan</td>\n    </tr>\n    <tr>\n      <th>3287</th>\n      <td>74</td>\n      <td>San Luis</td>\n    </tr>\n    <tr>\n      <th>3380</th>\n      <td>78</td>\n      <td>Santa Cruz</td>\n    </tr>\n    <tr>\n      <th>3407</th>\n      <td>82</td>\n      <td>Santa Fe</td>\n    </tr>\n    <tr>\n      <th>3793</th>\n      <td>86</td>\n      <td>Santiago del Estero</td>\n    </tr>\n    <tr>\n      <th>3975</th>\n      <td>90</td>\n      <td>Tucumán</td>\n    </tr>\n    <tr>\n      <th>4138</th>\n      <td>94</td>\n      <td>Tierra del Fuego, Antártida e Islas del Atlánt...</td>\n    </tr>\n  </tbody>\n</table>\n</div>"
     },
     "execution_count": 102,
     "metadata": {},
     "output_type": "execute_result"
    }
   ],
   "source": [
    "df_provincias"
   ],
   "metadata": {
    "collapsed": false,
    "pycharm": {
     "name": "#%%\n"
    }
   }
  },
  {
   "cell_type": "code",
   "execution_count": 103,
   "outputs": [
    {
     "data": {
      "text/plain": "                              categoria  centroide_lat  centroide_lon  \\\n0                      Localidad simple     -35.033073     -60.280620   \n1                      Localidad simple     -34.868119     -60.393971   \n2     Componente de localidad compuesta     -35.068014     -60.402597   \n3                      Localidad simple     -35.124382     -60.220061   \n4                      Localidad simple     -35.109618     -60.070551   \n...                                 ...            ...            ...   \n4137                   Localidad simple     -34.688216     -58.957430   \n4138                   Localidad simple     -53.787047     -67.713235   \n4139                   Localidad simple     -54.511387     -67.195804   \n4140                   Localidad simple     -54.637686     -67.766941   \n4141                   Localidad simple     -54.803640     -68.316062   \n\n      departamento_id departamento_nombre fuente           id  \\\n0              6021.0             Alberti  INDEC   6021010000   \n1              6021.0             Alberti  INDEC   6021020000   \n2              6021.0             Alberti  INDEC   6021030000   \n3              6021.0             Alberti  INDEC   6021040000   \n4              6021.0             Alberti  INDEC   6021050000   \n...               ...                 ...    ...          ...   \n4137           6364.0   General Rodríguez  INDEC   6364030005   \n4138          94008.0          Río Grande  INDEC  94008010000   \n4139          94008.0          Río Grande  INDEC  94008020000   \n4140          94015.0             Ushuaia  INDEC  94015010000   \n4141          94015.0             Ushuaia  INDEC  94015020000   \n\n      localidad_censal_id localidad_censal_nombre  municipio_id  \\\n0                 6021010                 Alberti       60021.0   \n1                 6021020           Coronel Seguí       60021.0   \n2                 6021030                 Mechita       60021.0   \n3                 6021040                     Pla       60021.0   \n4                 6021050          Villa Grisolía       60021.0   \n...                   ...                     ...           ...   \n4137              6364030       General Rodríguez       60364.0   \n4138             94008010              Río Grande      940007.0   \n4139             94008020                 Tolhuin      942007.0   \n4140             94015010        Laguna Escondida           NaN   \n4141             94015020                 Ushuaia      940014.0   \n\n       municipio_nombre                       nombre  provincia_id  \\\n0               Alberti                      ALBERTI             6   \n1               Alberti                CORONEL SEGUI             6   \n2               Alberti                      MECHITA             6   \n3               Alberti                          PLA             6   \n4               Alberti               VILLA GRISOLIA             6   \n...                 ...                          ...           ...   \n4137  General Rodríguez  BARRIO RUTA 24 KILOMETRO 10             6   \n4138         Río Grande                   RIO GRANDE            94   \n4139            Tolhuin                      TOLHUIN            94   \n4140                NaN             LAGUNA ESCONDIDA            94   \n4141            Ushuaia                      USHUAIA            94   \n\n                                       provincia_nombre  \n0                                          Buenos Aires  \n1                                          Buenos Aires  \n2                                          Buenos Aires  \n3                                          Buenos Aires  \n4                                          Buenos Aires  \n...                                                 ...  \n4137                                       Buenos Aires  \n4138  Tierra del Fuego, Antártida e Islas del Atlánt...  \n4139  Tierra del Fuego, Antártida e Islas del Atlánt...  \n4140  Tierra del Fuego, Antártida e Islas del Atlánt...  \n4141  Tierra del Fuego, Antártida e Islas del Atlánt...  \n\n[4142 rows x 14 columns]",
      "text/html": "<div>\n<style scoped>\n    .dataframe tbody tr th:only-of-type {\n        vertical-align: middle;\n    }\n\n    .dataframe tbody tr th {\n        vertical-align: top;\n    }\n\n    .dataframe thead th {\n        text-align: right;\n    }\n</style>\n<table border=\"1\" class=\"dataframe\">\n  <thead>\n    <tr style=\"text-align: right;\">\n      <th></th>\n      <th>categoria</th>\n      <th>centroide_lat</th>\n      <th>centroide_lon</th>\n      <th>departamento_id</th>\n      <th>departamento_nombre</th>\n      <th>fuente</th>\n      <th>id</th>\n      <th>localidad_censal_id</th>\n      <th>localidad_censal_nombre</th>\n      <th>municipio_id</th>\n      <th>municipio_nombre</th>\n      <th>nombre</th>\n      <th>provincia_id</th>\n      <th>provincia_nombre</th>\n    </tr>\n  </thead>\n  <tbody>\n    <tr>\n      <th>0</th>\n      <td>Localidad simple</td>\n      <td>-35.033073</td>\n      <td>-60.280620</td>\n      <td>6021.0</td>\n      <td>Alberti</td>\n      <td>INDEC</td>\n      <td>6021010000</td>\n      <td>6021010</td>\n      <td>Alberti</td>\n      <td>60021.0</td>\n      <td>Alberti</td>\n      <td>ALBERTI</td>\n      <td>6</td>\n      <td>Buenos Aires</td>\n    </tr>\n    <tr>\n      <th>1</th>\n      <td>Localidad simple</td>\n      <td>-34.868119</td>\n      <td>-60.393971</td>\n      <td>6021.0</td>\n      <td>Alberti</td>\n      <td>INDEC</td>\n      <td>6021020000</td>\n      <td>6021020</td>\n      <td>Coronel Seguí</td>\n      <td>60021.0</td>\n      <td>Alberti</td>\n      <td>CORONEL SEGUI</td>\n      <td>6</td>\n      <td>Buenos Aires</td>\n    </tr>\n    <tr>\n      <th>2</th>\n      <td>Componente de localidad compuesta</td>\n      <td>-35.068014</td>\n      <td>-60.402597</td>\n      <td>6021.0</td>\n      <td>Alberti</td>\n      <td>INDEC</td>\n      <td>6021030000</td>\n      <td>6021030</td>\n      <td>Mechita</td>\n      <td>60021.0</td>\n      <td>Alberti</td>\n      <td>MECHITA</td>\n      <td>6</td>\n      <td>Buenos Aires</td>\n    </tr>\n    <tr>\n      <th>3</th>\n      <td>Localidad simple</td>\n      <td>-35.124382</td>\n      <td>-60.220061</td>\n      <td>6021.0</td>\n      <td>Alberti</td>\n      <td>INDEC</td>\n      <td>6021040000</td>\n      <td>6021040</td>\n      <td>Pla</td>\n      <td>60021.0</td>\n      <td>Alberti</td>\n      <td>PLA</td>\n      <td>6</td>\n      <td>Buenos Aires</td>\n    </tr>\n    <tr>\n      <th>4</th>\n      <td>Localidad simple</td>\n      <td>-35.109618</td>\n      <td>-60.070551</td>\n      <td>6021.0</td>\n      <td>Alberti</td>\n      <td>INDEC</td>\n      <td>6021050000</td>\n      <td>6021050</td>\n      <td>Villa Grisolía</td>\n      <td>60021.0</td>\n      <td>Alberti</td>\n      <td>VILLA GRISOLIA</td>\n      <td>6</td>\n      <td>Buenos Aires</td>\n    </tr>\n    <tr>\n      <th>...</th>\n      <td>...</td>\n      <td>...</td>\n      <td>...</td>\n      <td>...</td>\n      <td>...</td>\n      <td>...</td>\n      <td>...</td>\n      <td>...</td>\n      <td>...</td>\n      <td>...</td>\n      <td>...</td>\n      <td>...</td>\n      <td>...</td>\n      <td>...</td>\n    </tr>\n    <tr>\n      <th>4137</th>\n      <td>Localidad simple</td>\n      <td>-34.688216</td>\n      <td>-58.957430</td>\n      <td>6364.0</td>\n      <td>General Rodríguez</td>\n      <td>INDEC</td>\n      <td>6364030005</td>\n      <td>6364030</td>\n      <td>General Rodríguez</td>\n      <td>60364.0</td>\n      <td>General Rodríguez</td>\n      <td>BARRIO RUTA 24 KILOMETRO 10</td>\n      <td>6</td>\n      <td>Buenos Aires</td>\n    </tr>\n    <tr>\n      <th>4138</th>\n      <td>Localidad simple</td>\n      <td>-53.787047</td>\n      <td>-67.713235</td>\n      <td>94008.0</td>\n      <td>Río Grande</td>\n      <td>INDEC</td>\n      <td>94008010000</td>\n      <td>94008010</td>\n      <td>Río Grande</td>\n      <td>940007.0</td>\n      <td>Río Grande</td>\n      <td>RIO GRANDE</td>\n      <td>94</td>\n      <td>Tierra del Fuego, Antártida e Islas del Atlánt...</td>\n    </tr>\n    <tr>\n      <th>4139</th>\n      <td>Localidad simple</td>\n      <td>-54.511387</td>\n      <td>-67.195804</td>\n      <td>94008.0</td>\n      <td>Río Grande</td>\n      <td>INDEC</td>\n      <td>94008020000</td>\n      <td>94008020</td>\n      <td>Tolhuin</td>\n      <td>942007.0</td>\n      <td>Tolhuin</td>\n      <td>TOLHUIN</td>\n      <td>94</td>\n      <td>Tierra del Fuego, Antártida e Islas del Atlánt...</td>\n    </tr>\n    <tr>\n      <th>4140</th>\n      <td>Localidad simple</td>\n      <td>-54.637686</td>\n      <td>-67.766941</td>\n      <td>94015.0</td>\n      <td>Ushuaia</td>\n      <td>INDEC</td>\n      <td>94015010000</td>\n      <td>94015010</td>\n      <td>Laguna Escondida</td>\n      <td>NaN</td>\n      <td>NaN</td>\n      <td>LAGUNA ESCONDIDA</td>\n      <td>94</td>\n      <td>Tierra del Fuego, Antártida e Islas del Atlánt...</td>\n    </tr>\n    <tr>\n      <th>4141</th>\n      <td>Localidad simple</td>\n      <td>-54.803640</td>\n      <td>-68.316062</td>\n      <td>94015.0</td>\n      <td>Ushuaia</td>\n      <td>INDEC</td>\n      <td>94015020000</td>\n      <td>94015020</td>\n      <td>Ushuaia</td>\n      <td>940014.0</td>\n      <td>Ushuaia</td>\n      <td>USHUAIA</td>\n      <td>94</td>\n      <td>Tierra del Fuego, Antártida e Islas del Atlánt...</td>\n    </tr>\n  </tbody>\n</table>\n<p>4142 rows × 14 columns</p>\n</div>"
     },
     "execution_count": 103,
     "metadata": {},
     "output_type": "execute_result"
    }
   ],
   "source": [
    "df_local"
   ],
   "metadata": {
    "collapsed": false,
    "pycharm": {
     "name": "#%%\n"
    }
   }
  },
  {
   "cell_type": "markdown",
   "source": [
    "# Tabla Clientes"
   ],
   "metadata": {
    "collapsed": false,
    "pycharm": {
     "name": "#%% md\n"
    }
   }
  },
  {
   "cell_type": "code",
   "execution_count": 104,
   "outputs": [],
   "source": [
    "df_clientes = df_clientes.drop(columns='col10')"
   ],
   "metadata": {
    "collapsed": false,
    "pycharm": {
     "name": "#%%\n"
    }
   }
  },
  {
   "cell_type": "code",
   "execution_count": 105,
   "outputs": [
    {
     "data": {
      "text/plain": "        ID     Provincia        Nombre_y_Apellido  \\\n0        1  Buenos Aires       HEBER JONI SANTANA   \n1        2  Buenos Aires              ANA SAPRIZA   \n2        3  Buenos Aires  FERNANDO LUIS SARALEGUI   \n3        4  Buenos Aires         MANUELA SARASOLA   \n4        5  Buenos Aires       MARIO RAÚL SARASUA   \n...    ...           ...                      ...   \n2379  2668       Córdoba       MARIA STELLA RIVAS   \n2380  2669       Córdoba       ANA GABRIELA RIVAS   \n2381  2670       Córdoba    JAVIER ALONSO RIVEIRO   \n2382  2671       Córdoba    JUAN MANUEL RODRIGUEZ   \n2383  2672       Córdoba    JULIO CESAR RODRIGUEZ   \n\n                                              Domicilio   Telefono  Edad  \\\n0     LAS HERAS Y BAT. 24 DE FEBRERO 4150  RINCON DE...    42-5161    58   \n1     PUEYRREDON Y DUPUY RUTA3 KM 52.500 S/N  BÂº LO...    49-7578    61   \n2                              CALDERON DE LA BARCA 498    49-3435    15   \n3                    RUTA 36 KM 45, 500 S/N  EL PELIGRO    49-2883    29   \n4                        492 Y 186 S/N  COLONIA URQUIZA   491-4608    34   \n...                                                 ...        ...   ...   \n2379  CALLE PUBLICA  SANTA ELENA COLONIA TIROLESA - ...    4902756    23   \n2380                    CALLE PUBLICA S/NÂº  LA ARCADIA  153580992    28   \n2381        AVENIDA LIBERTADOR SAN MARTIN S/NÂº  BOUWER    4993041    57   \n2382  CALLE PUBLICA S/NÂ°  EL GATEADO BARRIO EL GATE...  152768918    36   \n2383  CALLE PUBLICA S/NÂº  EL VERGEL P/COLONIA TIROLESA  156149888    42   \n\n                Localidad             X             Y  \n0              LOMA VERDE  -58,81850307  -34,30997088  \n1              SANTA ROSA  -58,73073751  -34,93908311  \n2                  TORRES  -59,12794068  -34,43082199  \n3                RUTA SOL  -58,14393954  -34,92052706  \n4     JOSE MELCHOR ROMERO     -58,89381   -34,9444471  \n...                   ...           ...           ...  \n2379     COLONIA TIROLESA   -64,7419272  -31,25881725  \n2380           LA ARCADIA   -64,7696886  -31,53338396  \n2381               BOUWER  -64,19298343  -31,55786125  \n2382           EL GATEADO  -64,11681227  -31,32123448  \n2383            EL VERGEL   -64,7463455  -31,25832604  \n\n[2384 rows x 9 columns]",
      "text/html": "<div>\n<style scoped>\n    .dataframe tbody tr th:only-of-type {\n        vertical-align: middle;\n    }\n\n    .dataframe tbody tr th {\n        vertical-align: top;\n    }\n\n    .dataframe thead th {\n        text-align: right;\n    }\n</style>\n<table border=\"1\" class=\"dataframe\">\n  <thead>\n    <tr style=\"text-align: right;\">\n      <th></th>\n      <th>ID</th>\n      <th>Provincia</th>\n      <th>Nombre_y_Apellido</th>\n      <th>Domicilio</th>\n      <th>Telefono</th>\n      <th>Edad</th>\n      <th>Localidad</th>\n      <th>X</th>\n      <th>Y</th>\n    </tr>\n  </thead>\n  <tbody>\n    <tr>\n      <th>0</th>\n      <td>1</td>\n      <td>Buenos Aires</td>\n      <td>HEBER JONI SANTANA</td>\n      <td>LAS HERAS Y BAT. 24 DE FEBRERO 4150  RINCON DE...</td>\n      <td>42-5161</td>\n      <td>58</td>\n      <td>LOMA VERDE</td>\n      <td>-58,81850307</td>\n      <td>-34,30997088</td>\n    </tr>\n    <tr>\n      <th>1</th>\n      <td>2</td>\n      <td>Buenos Aires</td>\n      <td>ANA SAPRIZA</td>\n      <td>PUEYRREDON Y DUPUY RUTA3 KM 52.500 S/N  BÂº LO...</td>\n      <td>49-7578</td>\n      <td>61</td>\n      <td>SANTA ROSA</td>\n      <td>-58,73073751</td>\n      <td>-34,93908311</td>\n    </tr>\n    <tr>\n      <th>2</th>\n      <td>3</td>\n      <td>Buenos Aires</td>\n      <td>FERNANDO LUIS SARALEGUI</td>\n      <td>CALDERON DE LA BARCA 498</td>\n      <td>49-3435</td>\n      <td>15</td>\n      <td>TORRES</td>\n      <td>-59,12794068</td>\n      <td>-34,43082199</td>\n    </tr>\n    <tr>\n      <th>3</th>\n      <td>4</td>\n      <td>Buenos Aires</td>\n      <td>MANUELA SARASOLA</td>\n      <td>RUTA 36 KM 45, 500 S/N  EL PELIGRO</td>\n      <td>49-2883</td>\n      <td>29</td>\n      <td>RUTA SOL</td>\n      <td>-58,14393954</td>\n      <td>-34,92052706</td>\n    </tr>\n    <tr>\n      <th>4</th>\n      <td>5</td>\n      <td>Buenos Aires</td>\n      <td>MARIO RAÚL SARASUA</td>\n      <td>492 Y 186 S/N  COLONIA URQUIZA</td>\n      <td>491-4608</td>\n      <td>34</td>\n      <td>JOSE MELCHOR ROMERO</td>\n      <td>-58,89381</td>\n      <td>-34,9444471</td>\n    </tr>\n    <tr>\n      <th>...</th>\n      <td>...</td>\n      <td>...</td>\n      <td>...</td>\n      <td>...</td>\n      <td>...</td>\n      <td>...</td>\n      <td>...</td>\n      <td>...</td>\n      <td>...</td>\n    </tr>\n    <tr>\n      <th>2379</th>\n      <td>2668</td>\n      <td>Córdoba</td>\n      <td>MARIA STELLA RIVAS</td>\n      <td>CALLE PUBLICA  SANTA ELENA COLONIA TIROLESA - ...</td>\n      <td>4902756</td>\n      <td>23</td>\n      <td>COLONIA TIROLESA</td>\n      <td>-64,7419272</td>\n      <td>-31,25881725</td>\n    </tr>\n    <tr>\n      <th>2380</th>\n      <td>2669</td>\n      <td>Córdoba</td>\n      <td>ANA GABRIELA RIVAS</td>\n      <td>CALLE PUBLICA S/NÂº  LA ARCADIA</td>\n      <td>153580992</td>\n      <td>28</td>\n      <td>LA ARCADIA</td>\n      <td>-64,7696886</td>\n      <td>-31,53338396</td>\n    </tr>\n    <tr>\n      <th>2381</th>\n      <td>2670</td>\n      <td>Córdoba</td>\n      <td>JAVIER ALONSO RIVEIRO</td>\n      <td>AVENIDA LIBERTADOR SAN MARTIN S/NÂº  BOUWER</td>\n      <td>4993041</td>\n      <td>57</td>\n      <td>BOUWER</td>\n      <td>-64,19298343</td>\n      <td>-31,55786125</td>\n    </tr>\n    <tr>\n      <th>2382</th>\n      <td>2671</td>\n      <td>Córdoba</td>\n      <td>JUAN MANUEL RODRIGUEZ</td>\n      <td>CALLE PUBLICA S/NÂ°  EL GATEADO BARRIO EL GATE...</td>\n      <td>152768918</td>\n      <td>36</td>\n      <td>EL GATEADO</td>\n      <td>-64,11681227</td>\n      <td>-31,32123448</td>\n    </tr>\n    <tr>\n      <th>2383</th>\n      <td>2672</td>\n      <td>Córdoba</td>\n      <td>JULIO CESAR RODRIGUEZ</td>\n      <td>CALLE PUBLICA S/NÂº  EL VERGEL P/COLONIA TIROLESA</td>\n      <td>156149888</td>\n      <td>42</td>\n      <td>EL VERGEL</td>\n      <td>-64,7463455</td>\n      <td>-31,25832604</td>\n    </tr>\n  </tbody>\n</table>\n<p>2384 rows × 9 columns</p>\n</div>"
     },
     "execution_count": 105,
     "metadata": {},
     "output_type": "execute_result"
    }
   ],
   "source": [
    "df_clientes"
   ],
   "metadata": {
    "collapsed": false,
    "pycharm": {
     "name": "#%%\n"
    }
   }
  },
  {
   "cell_type": "code",
   "execution_count": 106,
   "outputs": [],
   "source": [
    "def get_apellidos(df, columna):\n",
    "    apellidos = []\n",
    "    for nombre in df[columna]:\n",
    "        if isinstance(nombre, str):\n",
    "            nombre = nombre.lower()\n",
    "            if ', ' in nombre:\n",
    "                apellidos.append(nombre.split(', ')[0])\n",
    "            else:\n",
    "                words = nombre.split(' ')\n",
    "                if len(words) > 3:\n",
    "                    last = words[-2:]\n",
    "                    apellidos.append(' '.join(last))\n",
    "                else:\n",
    "                    apellidos.append(words[-1])\n",
    "        else:\n",
    "            apellidos.append(float('NaN'))\n",
    "    return apellidos"
   ],
   "metadata": {
    "collapsed": false,
    "pycharm": {
     "name": "#%%\n"
    }
   }
  },
  {
   "cell_type": "code",
   "execution_count": 107,
   "outputs": [],
   "source": [
    "def get_names(element):\n",
    "    '''Obtengo sólo los nombres'''\n",
    "    if isinstance(element, str):\n",
    "        element = element.lower()\n",
    "        if ', ' in element:\n",
    "            return element.split(', ')[1]\n",
    "\n",
    "        names_last = element.split(' ')\n",
    "        if len(names_last) > 3:\n",
    "            names = names_last[:-2]\n",
    "        else:\n",
    "            names = names_last[:-1]\n",
    "\n",
    "        return ' '.join(names)"
   ],
   "metadata": {
    "collapsed": false,
    "pycharm": {
     "name": "#%%\n"
    }
   }
  },
  {
   "cell_type": "code",
   "execution_count": 108,
   "outputs": [],
   "source": [
    "def nombre_apellido(df):\n",
    "    '''Creo una columna de apellidos y nombres por separado'''\n",
    "    apellidos = get_apellidos(df, 'Nombre_y_Apellido')\n",
    "    df.insert(3, 'Apellido', apellidos)\n",
    "    df['Nombre_y_Apellido'] = df['Nombre_y_Apellido'].apply(get_names)\n",
    "    df.rename(columns={'Nombre_y_Apellido':'Nombre'}, inplace=True)\n"
   ],
   "metadata": {
    "collapsed": false,
    "pycharm": {
     "name": "#%%\n"
    }
   }
  },
  {
   "cell_type": "code",
   "execution_count": 109,
   "outputs": [],
   "source": [
    "nombre_apellido(df_clientes)"
   ],
   "metadata": {
    "collapsed": false,
    "pycharm": {
     "name": "#%%\n"
    }
   }
  },
  {
   "cell_type": "code",
   "execution_count": 110,
   "outputs": [
    {
     "data": {
      "text/plain": "   ID     Provincia         Nombre   Apellido  \\\n0   1  Buenos Aires     heber joni    santana   \n1   2  Buenos Aires            ana    sapriza   \n2   3  Buenos Aires  fernando luis  saralegui   \n3   4  Buenos Aires        manuela   sarasola   \n4   5  Buenos Aires     mario raúl    sarasua   \n\n                                           Domicilio  Telefono  Edad  \\\n0  LAS HERAS Y BAT. 24 DE FEBRERO 4150  RINCON DE...   42-5161    58   \n1  PUEYRREDON Y DUPUY RUTA3 KM 52.500 S/N  BÂº LO...   49-7578    61   \n2                           CALDERON DE LA BARCA 498   49-3435    15   \n3                 RUTA 36 KM 45, 500 S/N  EL PELIGRO   49-2883    29   \n4                     492 Y 186 S/N  COLONIA URQUIZA  491-4608    34   \n\n             Localidad             X             Y  \n0           LOMA VERDE  -58,81850307  -34,30997088  \n1           SANTA ROSA  -58,73073751  -34,93908311  \n2               TORRES  -59,12794068  -34,43082199  \n3             RUTA SOL  -58,14393954  -34,92052706  \n4  JOSE MELCHOR ROMERO     -58,89381   -34,9444471  ",
      "text/html": "<div>\n<style scoped>\n    .dataframe tbody tr th:only-of-type {\n        vertical-align: middle;\n    }\n\n    .dataframe tbody tr th {\n        vertical-align: top;\n    }\n\n    .dataframe thead th {\n        text-align: right;\n    }\n</style>\n<table border=\"1\" class=\"dataframe\">\n  <thead>\n    <tr style=\"text-align: right;\">\n      <th></th>\n      <th>ID</th>\n      <th>Provincia</th>\n      <th>Nombre</th>\n      <th>Apellido</th>\n      <th>Domicilio</th>\n      <th>Telefono</th>\n      <th>Edad</th>\n      <th>Localidad</th>\n      <th>X</th>\n      <th>Y</th>\n    </tr>\n  </thead>\n  <tbody>\n    <tr>\n      <th>0</th>\n      <td>1</td>\n      <td>Buenos Aires</td>\n      <td>heber joni</td>\n      <td>santana</td>\n      <td>LAS HERAS Y BAT. 24 DE FEBRERO 4150  RINCON DE...</td>\n      <td>42-5161</td>\n      <td>58</td>\n      <td>LOMA VERDE</td>\n      <td>-58,81850307</td>\n      <td>-34,30997088</td>\n    </tr>\n    <tr>\n      <th>1</th>\n      <td>2</td>\n      <td>Buenos Aires</td>\n      <td>ana</td>\n      <td>sapriza</td>\n      <td>PUEYRREDON Y DUPUY RUTA3 KM 52.500 S/N  BÂº LO...</td>\n      <td>49-7578</td>\n      <td>61</td>\n      <td>SANTA ROSA</td>\n      <td>-58,73073751</td>\n      <td>-34,93908311</td>\n    </tr>\n    <tr>\n      <th>2</th>\n      <td>3</td>\n      <td>Buenos Aires</td>\n      <td>fernando luis</td>\n      <td>saralegui</td>\n      <td>CALDERON DE LA BARCA 498</td>\n      <td>49-3435</td>\n      <td>15</td>\n      <td>TORRES</td>\n      <td>-59,12794068</td>\n      <td>-34,43082199</td>\n    </tr>\n    <tr>\n      <th>3</th>\n      <td>4</td>\n      <td>Buenos Aires</td>\n      <td>manuela</td>\n      <td>sarasola</td>\n      <td>RUTA 36 KM 45, 500 S/N  EL PELIGRO</td>\n      <td>49-2883</td>\n      <td>29</td>\n      <td>RUTA SOL</td>\n      <td>-58,14393954</td>\n      <td>-34,92052706</td>\n    </tr>\n    <tr>\n      <th>4</th>\n      <td>5</td>\n      <td>Buenos Aires</td>\n      <td>mario raúl</td>\n      <td>sarasua</td>\n      <td>492 Y 186 S/N  COLONIA URQUIZA</td>\n      <td>491-4608</td>\n      <td>34</td>\n      <td>JOSE MELCHOR ROMERO</td>\n      <td>-58,89381</td>\n      <td>-34,9444471</td>\n    </tr>\n  </tbody>\n</table>\n</div>"
     },
     "execution_count": 110,
     "metadata": {},
     "output_type": "execute_result"
    }
   ],
   "source": [
    "df_clientes.head()"
   ],
   "metadata": {
    "collapsed": false,
    "pycharm": {
     "name": "#%%\n"
    }
   }
  },
  {
   "cell_type": "code",
   "execution_count": 111,
   "outputs": [],
   "source": [
    "def provincia_to_id(element):\n",
    "    '''Obtengo el Id de la provincia y reemplazo su nombre'''\n",
    "    if isinstance(element, str):\n",
    "        mask = df_provincias[df_provincias['provincia_nombre'].apply(lambda x: fuzz.partial_ratio(x,element)) > 80] # Aplico la función de fuzz, que implementa Levinshtein, para obtener el id de la provincia\n",
    "        return mask['provincia_id'].values.tolist()[0]\n",
    "    else:\n",
    "        return element"
   ],
   "metadata": {
    "collapsed": false,
    "pycharm": {
     "name": "#%%\n"
    }
   }
  },
  {
   "cell_type": "code",
   "execution_count": 112,
   "outputs": [],
   "source": [
    "df_clientes['Provincia'] = df_clientes['Provincia'].apply(provincia_to_id)\n",
    "df_clientes.rename(columns={'Provincia':'IdProvincia'}, inplace=True)"
   ],
   "metadata": {
    "collapsed": false,
    "pycharm": {
     "name": "#%%\n"
    }
   }
  },
  {
   "cell_type": "code",
   "execution_count": 113,
   "outputs": [],
   "source": [
    "df_clientes['IdProvincia'] = df_clientes['IdProvincia'].astype('Int64')"
   ],
   "metadata": {
    "collapsed": false,
    "pycharm": {
     "name": "#%%\n"
    }
   }
  },
  {
   "cell_type": "code",
   "execution_count": 114,
   "outputs": [],
   "source": [
    "def replace_comma(stringed):\n",
    "    try:\n",
    "        with_comma = stringed.replace(',','.')\n",
    "        return float(with_comma)\n",
    "    except:\n",
    "        return float('NaN')"
   ],
   "metadata": {
    "collapsed": false,
    "pycharm": {
     "name": "#%%\n"
    }
   }
  },
  {
   "cell_type": "code",
   "execution_count": 115,
   "outputs": [],
   "source": [
    "df_clientes.X = df_clientes.X.apply(replace_comma)\n",
    "df_clientes.Y = df_clientes.Y.apply(replace_comma)"
   ],
   "metadata": {
    "collapsed": false,
    "pycharm": {
     "name": "#%%\n"
    }
   }
  },
  {
   "cell_type": "code",
   "execution_count": 184,
   "outputs": [
    {
     "data": {
      "text/plain": "        ID  IdProvincia         Nombre   Apellido  \\\n0        1            6     heber joni    santana   \n1        2            6            ana    sapriza   \n2        3            6  fernando luis  saralegui   \n3        4            6        manuela   sarasola   \n4        5            6     mario raúl    sarasua   \n...    ...          ...            ...        ...   \n2379  2668           14   maria stella      rivas   \n2380  2669           14   ana gabriela      rivas   \n2381  2670           14  javier alonso    riveiro   \n2382  2671           14    juan manuel  rodriguez   \n2383  2672           14    julio cesar  rodriguez   \n\n                                              Domicilio   Telefono  Edad  \\\n0     LAS HERAS Y BAT. 24 DE FEBRERO 4150  RINCON DE...    42-5161    58   \n1     PUEYRREDON Y DUPUY RUTA3 KM 52.500 S/N  BÂº LO...    49-7578    61   \n2                              CALDERON DE LA BARCA 498    49-3435    15   \n3                    RUTA 36 KM 45, 500 S/N  EL PELIGRO    49-2883    29   \n4                        492 Y 186 S/N  COLONIA URQUIZA   491-4608    34   \n...                                                 ...        ...   ...   \n2379  CALLE PUBLICA  SANTA ELENA COLONIA TIROLESA - ...    4902756    23   \n2380                    CALLE PUBLICA S/NÂº  LA ARCADIA  153580992    28   \n2381        AVENIDA LIBERTADOR SAN MARTIN S/NÂº  BOUWER    4993041    57   \n2382  CALLE PUBLICA S/NÂ°  EL GATEADO BARRIO EL GATE...  152768918    36   \n2383  CALLE PUBLICA S/NÂº  EL VERGEL P/COLONIA TIROLESA  156149888    42   \n\n                Localidad          X          Y  \n0              LOMA VERDE -58.818503 -34.309971  \n1              SANTA ROSA -58.730738 -34.939083  \n2                  TORRES -59.127941 -34.430822  \n3                RUTA SOL -58.143940 -34.920527  \n4     JOSE MELCHOR ROMERO -58.893810 -34.944447  \n...                   ...        ...        ...  \n2379     COLONIA TIROLESA -64.741927 -31.258817  \n2380           LA ARCADIA -64.769689 -31.533384  \n2381               BOUWER -64.192983 -31.557861  \n2382           EL GATEADO -64.116812 -31.321234  \n2383            EL VERGEL -64.746346 -31.258326  \n\n[2384 rows x 10 columns]",
      "text/html": "<div>\n<style scoped>\n    .dataframe tbody tr th:only-of-type {\n        vertical-align: middle;\n    }\n\n    .dataframe tbody tr th {\n        vertical-align: top;\n    }\n\n    .dataframe thead th {\n        text-align: right;\n    }\n</style>\n<table border=\"1\" class=\"dataframe\">\n  <thead>\n    <tr style=\"text-align: right;\">\n      <th></th>\n      <th>ID</th>\n      <th>IdProvincia</th>\n      <th>Nombre</th>\n      <th>Apellido</th>\n      <th>Domicilio</th>\n      <th>Telefono</th>\n      <th>Edad</th>\n      <th>Localidad</th>\n      <th>X</th>\n      <th>Y</th>\n    </tr>\n  </thead>\n  <tbody>\n    <tr>\n      <th>0</th>\n      <td>1</td>\n      <td>6</td>\n      <td>heber joni</td>\n      <td>santana</td>\n      <td>LAS HERAS Y BAT. 24 DE FEBRERO 4150  RINCON DE...</td>\n      <td>42-5161</td>\n      <td>58</td>\n      <td>LOMA VERDE</td>\n      <td>-58.818503</td>\n      <td>-34.309971</td>\n    </tr>\n    <tr>\n      <th>1</th>\n      <td>2</td>\n      <td>6</td>\n      <td>ana</td>\n      <td>sapriza</td>\n      <td>PUEYRREDON Y DUPUY RUTA3 KM 52.500 S/N  BÂº LO...</td>\n      <td>49-7578</td>\n      <td>61</td>\n      <td>SANTA ROSA</td>\n      <td>-58.730738</td>\n      <td>-34.939083</td>\n    </tr>\n    <tr>\n      <th>2</th>\n      <td>3</td>\n      <td>6</td>\n      <td>fernando luis</td>\n      <td>saralegui</td>\n      <td>CALDERON DE LA BARCA 498</td>\n      <td>49-3435</td>\n      <td>15</td>\n      <td>TORRES</td>\n      <td>-59.127941</td>\n      <td>-34.430822</td>\n    </tr>\n    <tr>\n      <th>3</th>\n      <td>4</td>\n      <td>6</td>\n      <td>manuela</td>\n      <td>sarasola</td>\n      <td>RUTA 36 KM 45, 500 S/N  EL PELIGRO</td>\n      <td>49-2883</td>\n      <td>29</td>\n      <td>RUTA SOL</td>\n      <td>-58.143940</td>\n      <td>-34.920527</td>\n    </tr>\n    <tr>\n      <th>4</th>\n      <td>5</td>\n      <td>6</td>\n      <td>mario raúl</td>\n      <td>sarasua</td>\n      <td>492 Y 186 S/N  COLONIA URQUIZA</td>\n      <td>491-4608</td>\n      <td>34</td>\n      <td>JOSE MELCHOR ROMERO</td>\n      <td>-58.893810</td>\n      <td>-34.944447</td>\n    </tr>\n    <tr>\n      <th>...</th>\n      <td>...</td>\n      <td>...</td>\n      <td>...</td>\n      <td>...</td>\n      <td>...</td>\n      <td>...</td>\n      <td>...</td>\n      <td>...</td>\n      <td>...</td>\n      <td>...</td>\n    </tr>\n    <tr>\n      <th>2379</th>\n      <td>2668</td>\n      <td>14</td>\n      <td>maria stella</td>\n      <td>rivas</td>\n      <td>CALLE PUBLICA  SANTA ELENA COLONIA TIROLESA - ...</td>\n      <td>4902756</td>\n      <td>23</td>\n      <td>COLONIA TIROLESA</td>\n      <td>-64.741927</td>\n      <td>-31.258817</td>\n    </tr>\n    <tr>\n      <th>2380</th>\n      <td>2669</td>\n      <td>14</td>\n      <td>ana gabriela</td>\n      <td>rivas</td>\n      <td>CALLE PUBLICA S/NÂº  LA ARCADIA</td>\n      <td>153580992</td>\n      <td>28</td>\n      <td>LA ARCADIA</td>\n      <td>-64.769689</td>\n      <td>-31.533384</td>\n    </tr>\n    <tr>\n      <th>2381</th>\n      <td>2670</td>\n      <td>14</td>\n      <td>javier alonso</td>\n      <td>riveiro</td>\n      <td>AVENIDA LIBERTADOR SAN MARTIN S/NÂº  BOUWER</td>\n      <td>4993041</td>\n      <td>57</td>\n      <td>BOUWER</td>\n      <td>-64.192983</td>\n      <td>-31.557861</td>\n    </tr>\n    <tr>\n      <th>2382</th>\n      <td>2671</td>\n      <td>14</td>\n      <td>juan manuel</td>\n      <td>rodriguez</td>\n      <td>CALLE PUBLICA S/NÂ°  EL GATEADO BARRIO EL GATE...</td>\n      <td>152768918</td>\n      <td>36</td>\n      <td>EL GATEADO</td>\n      <td>-64.116812</td>\n      <td>-31.321234</td>\n    </tr>\n    <tr>\n      <th>2383</th>\n      <td>2672</td>\n      <td>14</td>\n      <td>julio cesar</td>\n      <td>rodriguez</td>\n      <td>CALLE PUBLICA S/NÂº  EL VERGEL P/COLONIA TIROLESA</td>\n      <td>156149888</td>\n      <td>42</td>\n      <td>EL VERGEL</td>\n      <td>-64.746346</td>\n      <td>-31.258326</td>\n    </tr>\n  </tbody>\n</table>\n<p>2384 rows × 10 columns</p>\n</div>"
     },
     "execution_count": 184,
     "metadata": {},
     "output_type": "execute_result"
    }
   ],
   "source": [
    "df_clientes"
   ],
   "metadata": {
    "collapsed": false,
    "pycharm": {
     "name": "#%%\n"
    }
   }
  },
  {
   "cell_type": "code",
   "execution_count": 186,
   "outputs": [
    {
     "data": {
      "text/plain": "       IdVenta       Fecha Fecha_Entrega  IdCanal  IdCliente  IdSucursal  \\\n0            1  2018-03-09    2018-03-17        3        969          13   \n1            2  2018-12-28    2018-12-29        2        884          13   \n2            3  2016-03-28    2016-03-31        2       1722          13   \n3            4  2017-10-23    2017-10-24        3       2876          13   \n4            5  2017-11-22    2017-11-25        2        678          13   \n...        ...         ...           ...      ...        ...         ...   \n46175    47596  2020-11-30    2020-12-09        1        193          26   \n46176    47597  2020-11-30    2020-12-07        3        333          26   \n46177    47598  2020-11-30    2020-12-07        1       2389          27   \n46178    47599  2020-11-30    2020-12-04        1       1067          29   \n46179    47600  2020-11-30    2020-12-06        2        932          30   \n\n       IdEmpleado  IdProducto   Precio  Cantidad  \n0            1674       42817   813.12       2.0  \n1            1674       42795   543.18       3.0  \n2            1674       42837   430.32       1.0  \n3            1674       42834   818.84       2.0  \n4            1674       42825   554.18       3.0  \n...           ...         ...      ...       ...  \n46175        3032       42850   279.00       2.0  \n46176        3193       42799  1536.04       2.0  \n46177        3667       42916  1356.00       2.0  \n46178        3836       42935  2456.00       1.0  \n46179        3864       42836   823.24       1.0  \n\n[46180 rows x 10 columns]",
      "text/html": "<div>\n<style scoped>\n    .dataframe tbody tr th:only-of-type {\n        vertical-align: middle;\n    }\n\n    .dataframe tbody tr th {\n        vertical-align: top;\n    }\n\n    .dataframe thead th {\n        text-align: right;\n    }\n</style>\n<table border=\"1\" class=\"dataframe\">\n  <thead>\n    <tr style=\"text-align: right;\">\n      <th></th>\n      <th>IdVenta</th>\n      <th>Fecha</th>\n      <th>Fecha_Entrega</th>\n      <th>IdCanal</th>\n      <th>IdCliente</th>\n      <th>IdSucursal</th>\n      <th>IdEmpleado</th>\n      <th>IdProducto</th>\n      <th>Precio</th>\n      <th>Cantidad</th>\n    </tr>\n  </thead>\n  <tbody>\n    <tr>\n      <th>0</th>\n      <td>1</td>\n      <td>2018-03-09</td>\n      <td>2018-03-17</td>\n      <td>3</td>\n      <td>969</td>\n      <td>13</td>\n      <td>1674</td>\n      <td>42817</td>\n      <td>813.12</td>\n      <td>2.0</td>\n    </tr>\n    <tr>\n      <th>1</th>\n      <td>2</td>\n      <td>2018-12-28</td>\n      <td>2018-12-29</td>\n      <td>2</td>\n      <td>884</td>\n      <td>13</td>\n      <td>1674</td>\n      <td>42795</td>\n      <td>543.18</td>\n      <td>3.0</td>\n    </tr>\n    <tr>\n      <th>2</th>\n      <td>3</td>\n      <td>2016-03-28</td>\n      <td>2016-03-31</td>\n      <td>2</td>\n      <td>1722</td>\n      <td>13</td>\n      <td>1674</td>\n      <td>42837</td>\n      <td>430.32</td>\n      <td>1.0</td>\n    </tr>\n    <tr>\n      <th>3</th>\n      <td>4</td>\n      <td>2017-10-23</td>\n      <td>2017-10-24</td>\n      <td>3</td>\n      <td>2876</td>\n      <td>13</td>\n      <td>1674</td>\n      <td>42834</td>\n      <td>818.84</td>\n      <td>2.0</td>\n    </tr>\n    <tr>\n      <th>4</th>\n      <td>5</td>\n      <td>2017-11-22</td>\n      <td>2017-11-25</td>\n      <td>2</td>\n      <td>678</td>\n      <td>13</td>\n      <td>1674</td>\n      <td>42825</td>\n      <td>554.18</td>\n      <td>3.0</td>\n    </tr>\n    <tr>\n      <th>...</th>\n      <td>...</td>\n      <td>...</td>\n      <td>...</td>\n      <td>...</td>\n      <td>...</td>\n      <td>...</td>\n      <td>...</td>\n      <td>...</td>\n      <td>...</td>\n      <td>...</td>\n    </tr>\n    <tr>\n      <th>46175</th>\n      <td>47596</td>\n      <td>2020-11-30</td>\n      <td>2020-12-09</td>\n      <td>1</td>\n      <td>193</td>\n      <td>26</td>\n      <td>3032</td>\n      <td>42850</td>\n      <td>279.00</td>\n      <td>2.0</td>\n    </tr>\n    <tr>\n      <th>46176</th>\n      <td>47597</td>\n      <td>2020-11-30</td>\n      <td>2020-12-07</td>\n      <td>3</td>\n      <td>333</td>\n      <td>26</td>\n      <td>3193</td>\n      <td>42799</td>\n      <td>1536.04</td>\n      <td>2.0</td>\n    </tr>\n    <tr>\n      <th>46177</th>\n      <td>47598</td>\n      <td>2020-11-30</td>\n      <td>2020-12-07</td>\n      <td>1</td>\n      <td>2389</td>\n      <td>27</td>\n      <td>3667</td>\n      <td>42916</td>\n      <td>1356.00</td>\n      <td>2.0</td>\n    </tr>\n    <tr>\n      <th>46178</th>\n      <td>47599</td>\n      <td>2020-11-30</td>\n      <td>2020-12-04</td>\n      <td>1</td>\n      <td>1067</td>\n      <td>29</td>\n      <td>3836</td>\n      <td>42935</td>\n      <td>2456.00</td>\n      <td>1.0</td>\n    </tr>\n    <tr>\n      <th>46179</th>\n      <td>47600</td>\n      <td>2020-11-30</td>\n      <td>2020-12-06</td>\n      <td>2</td>\n      <td>932</td>\n      <td>30</td>\n      <td>3864</td>\n      <td>42836</td>\n      <td>823.24</td>\n      <td>1.0</td>\n    </tr>\n  </tbody>\n</table>\n<p>46180 rows × 10 columns</p>\n</div>"
     },
     "execution_count": 186,
     "metadata": {},
     "output_type": "execute_result"
    }
   ],
   "source": [
    "df_venta"
   ],
   "metadata": {
    "collapsed": false,
    "pycharm": {
     "name": "#%%\n"
    }
   }
  }
 ],
 "metadata": {
  "kernelspec": {
   "display_name": "Python 3",
   "language": "python",
   "name": "python3"
  },
  "language_info": {
   "codemirror_mode": {
    "name": "ipython",
    "version": 2
   },
   "file_extension": ".py",
   "mimetype": "text/x-python",
   "name": "python",
   "nbconvert_exporter": "python",
   "pygments_lexer": "ipython2",
   "version": "2.7.6"
  }
 },
 "nbformat": 4,
 "nbformat_minor": 0
}