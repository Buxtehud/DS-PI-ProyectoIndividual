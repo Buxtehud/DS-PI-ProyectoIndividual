{
 "cells": [
  {
   "cell_type": "code",
   "execution_count": 65,
   "metadata": {
    "collapsed": true
   },
   "outputs": [],
   "source": [
    "import pandas as pd\n",
    "import numpy as np\n",
    "import matplotlib.pyplot as plt\n",
    "import seaborn as sns"
   ]
  },
  {
   "cell_type": "code",
   "execution_count": 66,
   "outputs": [],
   "source": [
    "df_clientes = pd.read_csv('./Datasets/Clientes.csv', delimiter=';', encoding='utf-8')\n",
    "df_compra = pd.read_csv('./Datasets/Compra.csv')\n",
    "df_gasto = pd.read_csv('./Datasets/Gasto.csv')\n",
    "df_local = pd.read_csv('./Datasets/Localidades.csv')\n",
    "df_prov = pd.read_csv('./Datasets/Proveedores.csv', encoding='iso-8859-1')\n",
    "df_suc = pd.read_csv('./Datasets/Sucursales.csv', delimiter=';')\n",
    "df_venta = pd.read_csv('./Datasets/Venta.csv')"
   ],
   "metadata": {
    "collapsed": false,
    "pycharm": {
     "name": "#%%\n"
    }
   }
  },
  {
   "cell_type": "code",
   "execution_count": 67,
   "outputs": [
    {
     "data": {
      "text/plain": "            IdVenta       IdCanal     IdCliente    IdSucursal    IdEmpleado  \\\ncount  46645.000000  46645.000000  46645.000000  46645.000000  46645.000000   \nmean   23398.589624      2.016958   1502.721514     14.781927   2488.720956   \nstd    13590.352830      0.743113    972.521043      8.878188    960.499762   \nmin        1.000000      1.000000      1.000000      1.000000   1011.000000   \n25%    11662.000000      1.000000    692.000000      7.000000   1574.000000   \n50%    23323.000000      2.000000   1360.000000     15.000000   2468.000000   \n75%    34984.000000      3.000000   2273.000000     23.000000   3433.000000   \nmax    48241.000000      3.000000   3407.000000     31.000000   3979.000000   \n\n         IdProducto        Precio      Cantidad  \ncount  46645.000000  4.572100e+04  45753.000000  \nmean   42901.305585  5.835634e+03      2.385395  \nstd       83.563413  2.498016e+05      3.547991  \nmin    42737.000000  3.000000e+00      1.000000  \n25%    42833.000000  4.380000e+02      2.000000  \n50%    42902.000000  6.536200e+02      2.000000  \n75%    42974.000000  1.789000e+03      3.000000  \nmax    43043.000000  3.373920e+07    300.000000  ",
      "text/html": "<div>\n<style scoped>\n    .dataframe tbody tr th:only-of-type {\n        vertical-align: middle;\n    }\n\n    .dataframe tbody tr th {\n        vertical-align: top;\n    }\n\n    .dataframe thead th {\n        text-align: right;\n    }\n</style>\n<table border=\"1\" class=\"dataframe\">\n  <thead>\n    <tr style=\"text-align: right;\">\n      <th></th>\n      <th>IdVenta</th>\n      <th>IdCanal</th>\n      <th>IdCliente</th>\n      <th>IdSucursal</th>\n      <th>IdEmpleado</th>\n      <th>IdProducto</th>\n      <th>Precio</th>\n      <th>Cantidad</th>\n    </tr>\n  </thead>\n  <tbody>\n    <tr>\n      <th>count</th>\n      <td>46645.000000</td>\n      <td>46645.000000</td>\n      <td>46645.000000</td>\n      <td>46645.000000</td>\n      <td>46645.000000</td>\n      <td>46645.000000</td>\n      <td>4.572100e+04</td>\n      <td>45753.000000</td>\n    </tr>\n    <tr>\n      <th>mean</th>\n      <td>23398.589624</td>\n      <td>2.016958</td>\n      <td>1502.721514</td>\n      <td>14.781927</td>\n      <td>2488.720956</td>\n      <td>42901.305585</td>\n      <td>5.835634e+03</td>\n      <td>2.385395</td>\n    </tr>\n    <tr>\n      <th>std</th>\n      <td>13590.352830</td>\n      <td>0.743113</td>\n      <td>972.521043</td>\n      <td>8.878188</td>\n      <td>960.499762</td>\n      <td>83.563413</td>\n      <td>2.498016e+05</td>\n      <td>3.547991</td>\n    </tr>\n    <tr>\n      <th>min</th>\n      <td>1.000000</td>\n      <td>1.000000</td>\n      <td>1.000000</td>\n      <td>1.000000</td>\n      <td>1011.000000</td>\n      <td>42737.000000</td>\n      <td>3.000000e+00</td>\n      <td>1.000000</td>\n    </tr>\n    <tr>\n      <th>25%</th>\n      <td>11662.000000</td>\n      <td>1.000000</td>\n      <td>692.000000</td>\n      <td>7.000000</td>\n      <td>1574.000000</td>\n      <td>42833.000000</td>\n      <td>4.380000e+02</td>\n      <td>2.000000</td>\n    </tr>\n    <tr>\n      <th>50%</th>\n      <td>23323.000000</td>\n      <td>2.000000</td>\n      <td>1360.000000</td>\n      <td>15.000000</td>\n      <td>2468.000000</td>\n      <td>42902.000000</td>\n      <td>6.536200e+02</td>\n      <td>2.000000</td>\n    </tr>\n    <tr>\n      <th>75%</th>\n      <td>34984.000000</td>\n      <td>3.000000</td>\n      <td>2273.000000</td>\n      <td>23.000000</td>\n      <td>3433.000000</td>\n      <td>42974.000000</td>\n      <td>1.789000e+03</td>\n      <td>3.000000</td>\n    </tr>\n    <tr>\n      <th>max</th>\n      <td>48241.000000</td>\n      <td>3.000000</td>\n      <td>3407.000000</td>\n      <td>31.000000</td>\n      <td>3979.000000</td>\n      <td>43043.000000</td>\n      <td>3.373920e+07</td>\n      <td>300.000000</td>\n    </tr>\n  </tbody>\n</table>\n</div>"
     },
     "execution_count": 67,
     "metadata": {},
     "output_type": "execute_result"
    }
   ],
   "source": [
    "df_venta.describe()"
   ],
   "metadata": {
    "collapsed": false,
    "pycharm": {
     "name": "#%%\n"
    }
   }
  },
  {
   "cell_type": "code",
   "execution_count": 68,
   "outputs": [
    {
     "name": "stdout",
     "output_type": "stream",
     "text": [
      "[42817, 42795, 42837, 42834, 42825, 42852, 42939, 42940, 42905, 42894, 42998, 42969, 42960, 42987, 43010, 43015, 42976, 42958, 42992, 42797, 42789, 42766, 42787, 42763, 42754, 42876, 42830, 42879, 42861, 42859, 42945, 42906, 42893, 43016, 42970, 42975, 43033, 43022, 43026, 43017, 42758, 42785, 42800, 42796, 42764, 42814, 42765, 42737, 42776, 42788, 42799, 42774, 42760, 42816, 42815, 42793, 42810, 42782, 42783, 42772, 42762, 42779, 42790, 42818, 42777, 42791, 42884, 42846, 42839, 42831, 42840, 42848, 42849, 42833, 42845, 42841, 42865, 42836, 42871, 42858, 42844, 42883, 42869, 42824, 42822, 42870, 42862, 42878, 42820, 42855, 42873, 42827, 42914, 42885, 42949, 42903, 42947, 42913, 42929, 42934, 42923, 42902, 42907, 42948, 42941, 42896, 42916, 42930, 42931, 42888, 42927, 42938, 42912, 42891, 42920, 42886, 42909, 42890, 43013, 42973, 43006, 42955, 42968, 42951, 43008, 42988, 42964, 42995, 42990, 42994, 42986, 43004, 42977, 42953, 43003, 42956, 43001, 43012, 43009, 42984, 43011, 42972, 42963, 43035, 43021, 43031, 43036, 43024, 43020, 43037, 43029, 43043, 42828, 42950, 42904, 42942, 42946, 43041, 42880, 42832, 42877, 42910, 42993, 42996, 42780, 42812, 42756, 42771, 42770, 42792, 42863, 42856, 42838, 42853, 42866, 42860, 42892, 42889, 42887, 42935, 42937, 42915, 42925, 42908, 42900, 42932, 42981, 43005, 42991, 42961, 42971, 43000, 43023, 43030, 43042, 43032, 43028, 42768, 43034, 43038, 43040, 42786, 42784, 42798, 42826, 42911, 42918, 42924, 42979, 42761, 42882, 42901, 42997, 42982, 43027, 43025, 42781, 42769, 42851, 42899, 42757, 42881, 42936, 42928, 42983, 43039, 42811, 42775, 42794, 42872, 42867, 42875, 42868, 42967, 43019, 42819, 42801, 42835, 42823, 42854, 42874, 42842, 42898, 42919, 42926, 42943, 43007, 42965, 42962, 43014, 42974, 42985, 42989, 43018, 42980, 42933, 42778, 42847, 42857, 42821, 42850, 42897, 42999, 43002, 42957, 42966, 42813, 42759, 42921, 42864, 42944, 42978, 42895, 42917, 42959, 42773, 42755, 42767, 42922, 42829, 42843, 42952, 42954]\n"
     ]
    }
   ],
   "source": [
    "productos = [x for x in df_venta['IdProducto'].unique()]\n",
    "print(productos)"
   ],
   "metadata": {
    "collapsed": false,
    "pycharm": {
     "name": "#%%\n"
    }
   }
  },
  {
   "cell_type": "code",
   "execution_count": 69,
   "outputs": [],
   "source": [
    "def get_moda(df, element_id, referencia, target):\n",
    "    \"\"\"Obtiene la moda de una columna target filtrando a través de la columna referencia\"\"\"\n",
    "    df_moda = df[df[referencia] == element_id].mode()\n",
    "    return df_moda[target][0]"
   ],
   "metadata": {
    "collapsed": false,
    "pycharm": {
     "name": "#%%\n"
    }
   }
  },
  {
   "cell_type": "code",
   "execution_count": 70,
   "outputs": [],
   "source": [
    "def input_moda(df, element_id, referencia, target):\n",
    "    \"\"\"Cambia todos los valores de las columnas al valor de la moda\"\"\"\n",
    "    moda = get_moda(df, element_id, referencia, target)\n",
    "    df.loc[(df[target] != moda) & (df[referencia] == element_id), target] = moda"
   ],
   "metadata": {
    "collapsed": false,
    "pycharm": {
     "name": "#%%\n"
    }
   }
  },
  {
   "cell_type": "code",
   "execution_count": 74,
   "outputs": [],
   "source": [
    "for product in productos:\n",
    "    input_moda(df_venta, product, 'IdProducto', 'Precio')"
   ],
   "metadata": {
    "collapsed": false,
    "pycharm": {
     "name": "#%%\n"
    }
   }
  },
  {
   "cell_type": "code",
   "execution_count": 76,
   "outputs": [
    {
     "name": "stdout",
     "output_type": "stream",
     "text": [
      "<class 'pandas.core.frame.DataFrame'>\n",
      "RangeIndex: 46645 entries, 0 to 46644\n",
      "Data columns (total 10 columns):\n",
      " #   Column         Non-Null Count  Dtype  \n",
      "---  ------         --------------  -----  \n",
      " 0   IdVenta        46645 non-null  int64  \n",
      " 1   Fecha          46645 non-null  object \n",
      " 2   Fecha_Entrega  46645 non-null  object \n",
      " 3   IdCanal        46645 non-null  int64  \n",
      " 4   IdCliente      46645 non-null  int64  \n",
      " 5   IdSucursal     46645 non-null  int64  \n",
      " 6   IdEmpleado     46645 non-null  int64  \n",
      " 7   IdProducto     46645 non-null  int64  \n",
      " 8   Precio         46645 non-null  float64\n",
      " 9   Cantidad       45753 non-null  float64\n",
      "dtypes: float64(2), int64(6), object(2)\n",
      "memory usage: 3.6+ MB\n"
     ]
    }
   ],
   "source": [],
   "metadata": {
    "collapsed": false,
    "pycharm": {
     "name": "#%%\n"
    }
   }
  }
 ],
 "metadata": {
  "kernelspec": {
   "display_name": "Python 3",
   "language": "python",
   "name": "python3"
  },
  "language_info": {
   "codemirror_mode": {
    "name": "ipython",
    "version": 2
   },
   "file_extension": ".py",
   "mimetype": "text/x-python",
   "name": "python",
   "nbconvert_exporter": "python",
   "pygments_lexer": "ipython2",
   "version": "2.7.6"
  }
 },
 "nbformat": 4,
 "nbformat_minor": 0
}