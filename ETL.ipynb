{
 "cells": [
  {
   "cell_type": "code",
   "execution_count": 1,
   "metadata": {
    "collapsed": true,
    "pycharm": {
     "name": "#%%\n"
    }
   },
   "outputs": [],
   "source": [
    "import pandas as pd\n",
    "import numpy as np\n",
    "import matplotlib.pyplot as plt\n",
    "import seaborn as sns\n",
    "from thefuzz import fuzz"
   ]
  },
  {
   "cell_type": "code",
   "execution_count": 2,
   "outputs": [],
   "source": [
    "df_canal = pd.read_csv('./Datasets/CanalDeVenta.csv')\n",
    "df_clientes = pd.read_csv('./Datasets/Clientes.csv', delimiter=';', encoding='utf-8')\n",
    "df_compra = pd.read_csv('./Datasets/Compra.csv')\n",
    "df_gasto = pd.read_csv('./Datasets/Gasto.csv')\n",
    "df_local = pd.read_csv('./Datasets/Localidades.csv')\n",
    "df_prov = pd.read_csv('./Datasets/Proveedores.csv', encoding='iso-8859-1')\n",
    "df_suc = pd.read_csv('./Datasets/Sucursales.csv', delimiter=';')\n",
    "df_tipo = pd.read_csv('./Datasets/TiposDeGasto.csv')\n",
    "df_venta = pd.read_csv('./Datasets/Venta.csv')"
   ],
   "metadata": {
    "collapsed": false,
    "pycharm": {
     "name": "#%%\n"
    }
   }
  },
  {
   "cell_type": "markdown",
   "source": [
    "# Tabla Venta"
   ],
   "metadata": {
    "collapsed": false,
    "pycharm": {
     "name": "#%% md\n"
    }
   }
  },
  {
   "cell_type": "code",
   "execution_count": 3,
   "outputs": [
    {
     "data": {
      "text/plain": "            IdVenta       IdCanal     IdCliente    IdSucursal    IdEmpleado  \\\ncount  46180.000000  46180.000000  46180.000000  46180.000000  46180.000000   \nmean   23151.534279      2.018038   1502.635232     14.782352   2488.830858   \nstd    13432.585938      0.745254    972.536404      8.876539    960.231933   \nmin        1.000000      1.000000      1.000000      1.000000   1011.000000   \n25%    11545.750000      1.000000    691.000000      7.000000   1574.000000   \n50%    23090.500000      2.000000   1359.000000     15.000000   2468.000000   \n75%    34635.250000      3.000000   2273.000000     23.000000   3433.000000   \nmax    47600.000000      3.000000   3407.000000     31.000000   3979.000000   \n\n         IdProducto        Precio      Cantidad  \ncount  46180.000000  4.526000e+04  45296.000000  \nmean   42901.264379  5.876587e+03      2.388246  \nstd       83.588487  2.510651e+05      3.562045  \nmin    42737.000000  3.000000e+00      1.000000  \n25%    42833.000000  4.380000e+02      2.000000  \n50%    42902.000000  6.540000e+02      2.000000  \n75%    42974.000000  1.789000e+03      3.000000  \nmax    43043.000000  3.373920e+07    300.000000  ",
      "text/html": "<div>\n<style scoped>\n    .dataframe tbody tr th:only-of-type {\n        vertical-align: middle;\n    }\n\n    .dataframe tbody tr th {\n        vertical-align: top;\n    }\n\n    .dataframe thead th {\n        text-align: right;\n    }\n</style>\n<table border=\"1\" class=\"dataframe\">\n  <thead>\n    <tr style=\"text-align: right;\">\n      <th></th>\n      <th>IdVenta</th>\n      <th>IdCanal</th>\n      <th>IdCliente</th>\n      <th>IdSucursal</th>\n      <th>IdEmpleado</th>\n      <th>IdProducto</th>\n      <th>Precio</th>\n      <th>Cantidad</th>\n    </tr>\n  </thead>\n  <tbody>\n    <tr>\n      <th>count</th>\n      <td>46180.000000</td>\n      <td>46180.000000</td>\n      <td>46180.000000</td>\n      <td>46180.000000</td>\n      <td>46180.000000</td>\n      <td>46180.000000</td>\n      <td>4.526000e+04</td>\n      <td>45296.000000</td>\n    </tr>\n    <tr>\n      <th>mean</th>\n      <td>23151.534279</td>\n      <td>2.018038</td>\n      <td>1502.635232</td>\n      <td>14.782352</td>\n      <td>2488.830858</td>\n      <td>42901.264379</td>\n      <td>5.876587e+03</td>\n      <td>2.388246</td>\n    </tr>\n    <tr>\n      <th>std</th>\n      <td>13432.585938</td>\n      <td>0.745254</td>\n      <td>972.536404</td>\n      <td>8.876539</td>\n      <td>960.231933</td>\n      <td>83.588487</td>\n      <td>2.510651e+05</td>\n      <td>3.562045</td>\n    </tr>\n    <tr>\n      <th>min</th>\n      <td>1.000000</td>\n      <td>1.000000</td>\n      <td>1.000000</td>\n      <td>1.000000</td>\n      <td>1011.000000</td>\n      <td>42737.000000</td>\n      <td>3.000000e+00</td>\n      <td>1.000000</td>\n    </tr>\n    <tr>\n      <th>25%</th>\n      <td>11545.750000</td>\n      <td>1.000000</td>\n      <td>691.000000</td>\n      <td>7.000000</td>\n      <td>1574.000000</td>\n      <td>42833.000000</td>\n      <td>4.380000e+02</td>\n      <td>2.000000</td>\n    </tr>\n    <tr>\n      <th>50%</th>\n      <td>23090.500000</td>\n      <td>2.000000</td>\n      <td>1359.000000</td>\n      <td>15.000000</td>\n      <td>2468.000000</td>\n      <td>42902.000000</td>\n      <td>6.540000e+02</td>\n      <td>2.000000</td>\n    </tr>\n    <tr>\n      <th>75%</th>\n      <td>34635.250000</td>\n      <td>3.000000</td>\n      <td>2273.000000</td>\n      <td>23.000000</td>\n      <td>3433.000000</td>\n      <td>42974.000000</td>\n      <td>1.789000e+03</td>\n      <td>3.000000</td>\n    </tr>\n    <tr>\n      <th>max</th>\n      <td>47600.000000</td>\n      <td>3.000000</td>\n      <td>3407.000000</td>\n      <td>31.000000</td>\n      <td>3979.000000</td>\n      <td>43043.000000</td>\n      <td>3.373920e+07</td>\n      <td>300.000000</td>\n    </tr>\n  </tbody>\n</table>\n</div>"
     },
     "execution_count": 3,
     "metadata": {},
     "output_type": "execute_result"
    }
   ],
   "source": [
    "df_venta.describe()"
   ],
   "metadata": {
    "collapsed": false,
    "pycharm": {
     "name": "#%%\n"
    }
   }
  },
  {
   "cell_type": "code",
   "execution_count": 5,
   "outputs": [],
   "source": [
    "def get_moda(df, element_id, referencia, target):\n",
    "    \"\"\"Obtiene la moda de una columna target filtrando a través de la columna referencia\"\"\"\n",
    "    df_moda = df[df[referencia] == element_id].mode()\n",
    "    return df_moda[target][0]"
   ],
   "metadata": {
    "collapsed": false,
    "pycharm": {
     "name": "#%%\n"
    }
   }
  },
  {
   "cell_type": "code",
   "execution_count": 6,
   "outputs": [],
   "source": [
    "def input_moda(df, element_id, referencia, target):\n",
    "    \"\"\"Cambia todos los valores de las columnas al valor de la moda\"\"\"\n",
    "    moda = get_moda(df, element_id, referencia, target)\n",
    "    df.loc[(df[target] != moda) & (df[referencia] == element_id), target] = moda"
   ],
   "metadata": {
    "collapsed": false,
    "pycharm": {
     "name": "#%%\n"
    }
   }
  },
  {
   "cell_type": "code",
   "execution_count": 29,
   "outputs": [],
   "source": [
    "def fill_moda(df, columna_filtro, target):\n",
    "    productos = [x for x in df[columna_filtro].unique()]\n",
    "    for product in productos:\n",
    "        input_moda(df_venta, product, columna_filtro, target)"
   ],
   "metadata": {
    "collapsed": false,
    "pycharm": {
     "name": "#%%\n"
    }
   }
  },
  {
   "cell_type": "code",
   "execution_count": 30,
   "outputs": [],
   "source": [
    "fill_moda(df_venta, 'IdProducto', 'Precio')"
   ],
   "metadata": {
    "collapsed": false,
    "pycharm": {
     "name": "#%%\n"
    }
   }
  },
  {
   "cell_type": "markdown",
   "source": [
    "# Localidad"
   ],
   "metadata": {
    "collapsed": false,
    "pycharm": {
     "name": "#%% md\n"
    }
   }
  },
  {
   "cell_type": "code",
   "execution_count": 9,
   "outputs": [],
   "source": [
    "df_provincias = df_local.loc[:,['provincia_id','provincia_nombre']].drop_duplicates()"
   ],
   "metadata": {
    "collapsed": false,
    "pycharm": {
     "name": "#%%\n"
    }
   }
  },
  {
   "cell_type": "markdown",
   "source": [
    "# Tabla Clientes"
   ],
   "metadata": {
    "collapsed": false,
    "pycharm": {
     "name": "#%% md\n"
    }
   }
  },
  {
   "cell_type": "code",
   "execution_count": 10,
   "outputs": [],
   "source": [
    "df_clientes = df_clientes.drop(columns='col10')"
   ],
   "metadata": {
    "collapsed": false,
    "pycharm": {
     "name": "#%%\n"
    }
   }
  },
  {
   "cell_type": "code",
   "execution_count": 11,
   "outputs": [],
   "source": [
    "def get_apellidos(df, columna):\n",
    "    apellidos = []\n",
    "    for nombre in df[columna]:\n",
    "        if isinstance(nombre, str):\n",
    "            nombre = nombre.upper()\n",
    "            if ', ' in nombre:\n",
    "                apellidos.append(nombre.split(', ')[0])\n",
    "            else:\n",
    "                words = nombre.split(' ')\n",
    "                if len(words) > 3:\n",
    "                    last = words[-2:]\n",
    "                    apellidos.append(' '.join(last))\n",
    "                else:\n",
    "                    apellidos.append(words[-1])\n",
    "        else:\n",
    "            apellidos.append(float('NaN'))\n",
    "    return apellidos"
   ],
   "metadata": {
    "collapsed": false,
    "pycharm": {
     "name": "#%%\n"
    }
   }
  },
  {
   "cell_type": "code",
   "execution_count": 12,
   "outputs": [],
   "source": [
    "def get_names(element):\n",
    "    \"\"\"Obtengo sólo los nombres\"\"\"\n",
    "    if isinstance(element, str):\n",
    "        element = element.upper()\n",
    "        if ', ' in element:\n",
    "            return element.split(', ')[1]\n",
    "\n",
    "        names_last = element.split(' ')\n",
    "        if len(names_last) > 3:\n",
    "            names = names_last[:-2]\n",
    "        else:\n",
    "            names = names_last[:-1]\n",
    "\n",
    "        return ' '.join(names)"
   ],
   "metadata": {
    "collapsed": false,
    "pycharm": {
     "name": "#%%\n"
    }
   }
  },
  {
   "cell_type": "code",
   "execution_count": 13,
   "outputs": [],
   "source": [
    "def nombre_apellido(df):\n",
    "    \"\"\"Creo una columna de apellidos y nombres por separado\"\"\"\n",
    "    apellidos = get_apellidos(df, 'Nombre_y_Apellido')\n",
    "    df.insert(3, 'Apellido', apellidos)\n",
    "    df['Nombre_y_Apellido'] = df['Nombre_y_Apellido'].apply(get_names)\n",
    "    df.rename(columns={'Nombre_y_Apellido':'Nombre'}, inplace=True)\n"
   ],
   "metadata": {
    "collapsed": false,
    "pycharm": {
     "name": "#%%\n"
    }
   }
  },
  {
   "cell_type": "code",
   "execution_count": 14,
   "outputs": [],
   "source": [
    "nombre_apellido(df_clientes)"
   ],
   "metadata": {
    "collapsed": false,
    "pycharm": {
     "name": "#%%\n"
    }
   }
  },
  {
   "cell_type": "code",
   "execution_count": 15,
   "outputs": [],
   "source": [
    "def provincia_to_id(element):\n",
    "    \"\"\"Obtengo el Id de la provincia y reemplazo su nombre\"\"\"\n",
    "    if isinstance(element, str):\n",
    "        mask = df_provincias[df_provincias['provincia_nombre'].apply(lambda x: fuzz.partial_ratio(x,element)) > 80] # Aplico la función de fuzz, que implementa Levinshtein, para obtener el id de la provincia\n",
    "        return mask['provincia_id'].values.tolist()[0]\n",
    "    else:\n",
    "        return element"
   ],
   "metadata": {
    "collapsed": false,
    "pycharm": {
     "name": "#%%\n"
    }
   }
  },
  {
   "cell_type": "code",
   "execution_count": 16,
   "outputs": [],
   "source": [
    "def idprovincia(df):\n",
    "    \"\"\"Aplica la función provincia_to_id a un dataset\"\"\"\n",
    "    df['Provincia'] = df['Provincia'].apply(provincia_to_id)\n",
    "    df.rename(columns={'Provincia':'IdProvincia'}, inplace=True)\n",
    "    df['IdProvincia'] = df['IdProvincia'].astype('Int64')"
   ],
   "metadata": {
    "collapsed": false,
    "pycharm": {
     "name": "#%%\n"
    }
   }
  },
  {
   "cell_type": "code",
   "execution_count": 17,
   "outputs": [],
   "source": [
    "idprovincia(df_clientes)"
   ],
   "metadata": {
    "collapsed": false,
    "pycharm": {
     "name": "#%%\n"
    }
   }
  },
  {
   "cell_type": "code",
   "execution_count": 18,
   "outputs": [],
   "source": [
    "def replace_comma(stringed):\n",
    "    \"\"\"Se reemplazan las comas por puntos, para poder transformar el dato en float\"\"\"\n",
    "    if isinstance(stringed, str) and len(stringed) > 2:\n",
    "        with_comma = stringed.replace(',','.')\n",
    "        return float(with_comma)\n",
    "    else:\n",
    "        return float('NaN')"
   ],
   "metadata": {
    "collapsed": false,
    "pycharm": {
     "name": "#%%\n"
    }
   }
  },
  {
   "cell_type": "code",
   "execution_count": 19,
   "outputs": [],
   "source": [
    "def input_replaced_comma(df):\n",
    "    \"\"\"Se aplica la función replace_comma a un dataset\"\"\"\n",
    "    df.X = df.X.apply(replace_comma)\n",
    "    df.Y = df.Y.apply(replace_comma)"
   ],
   "metadata": {
    "collapsed": false,
    "pycharm": {
     "name": "#%%\n"
    }
   }
  },
  {
   "cell_type": "code",
   "execution_count": 20,
   "outputs": [],
   "source": [
    "input_replaced_comma(df_clientes)"
   ],
   "metadata": {
    "collapsed": false,
    "pycharm": {
     "name": "#%%\n"
    }
   }
  },
  {
   "cell_type": "code",
   "execution_count": 21,
   "outputs": [],
   "source": [
    "def closer_location(df, cen_lon, cen_lat, lon, lat, target):\n",
    "    \"\"\"De acuerdo a las coordenadas del cliente, determino cuál es la localización más cercana\"\"\"\n",
    "    result = np.nan\n",
    "    for i in range(1,500): # Itero para varios radios\n",
    "        if len(df[(df[cen_lon].apply(lambda x: int(abs(x-lon)*i)) == 0) & (df[cen_lat].apply(lambda y: int(abs(y-lat)*i)) == 0)]) == 0:\n",
    "            result = df[(df[cen_lon].apply(lambda x: int(abs(x-lon)*(i-1))) == 0) & (df[cen_lat].apply(lambda y: int(abs(y-lat)*(i-1))) == 0)]\n",
    "            break\n",
    "    return result[target].values.tolist()[0]"
   ],
   "metadata": {
    "collapsed": false,
    "pycharm": {
     "name": "#%%\n"
    }
   }
  },
  {
   "cell_type": "code",
   "execution_count": 22,
   "outputs": [],
   "source": [
    "def get_location(x, df, target_col):\n",
    "    \"\"\"Lleno los valores faltantes en localidad o provincia usando las coordenadas\"\"\"\n",
    "    na_local = df[df[target_col].isna()]\n",
    "    if x.name == target_col:\n",
    "        names = []\n",
    "        ind = x.index\n",
    "        if target_col == 'IdProvincia':\n",
    "            target = 'provincia_id'\n",
    "        else:\n",
    "            target = 'nombre'\n",
    "        lon = na_local.loc[ind, 'X'].values\n",
    "        lat = na_local.loc[ind, 'Y'].values\n",
    "        for i in range(len(lon)):\n",
    "            names.append(closer_location(df_local, 'centroide_lon', 'centroide_lat', lon[i], lat[i], target))\n",
    "        return pd.Series(names, ind)\n",
    "    else:\n",
    "        return x\n"
   ],
   "metadata": {
    "collapsed": false,
    "pycharm": {
     "name": "#%%\n"
    }
   }
  },
  {
   "cell_type": "code",
   "execution_count": 23,
   "outputs": [],
   "source": [
    "def fill_location(df, target):\n",
    "    df[df[target].isna()] = df[df[target].isna()].apply(lambda x: get_location(x, df, target))"
   ],
   "metadata": {
    "collapsed": false,
    "pycharm": {
     "name": "#%%\n"
    }
   }
  },
  {
   "cell_type": "code",
   "execution_count": 24,
   "outputs": [],
   "source": [
    "fill_location(df_clientes, 'Localidad')\n",
    "fill_location(df_clientes, 'IdProvincia')"
   ],
   "metadata": {
    "collapsed": false,
    "pycharm": {
     "name": "#%%\n"
    }
   }
  },
  {
   "cell_type": "code",
   "execution_count": 25,
   "outputs": [],
   "source": [
    "df_clientes.fillna('None', inplace=True)"
   ],
   "metadata": {
    "collapsed": false,
    "pycharm": {
     "name": "#%%\n"
    }
   }
  },
  {
   "cell_type": "markdown",
   "source": [
    "# Tabla Compra"
   ],
   "metadata": {
    "collapsed": false,
    "pycharm": {
     "name": "#%% md\n"
    }
   }
  },
  {
   "cell_type": "code",
   "execution_count": 92,
   "outputs": [],
   "source": [
    "def fill_precio(x):\n",
    "    \"\"\"Completa los precios faltantes de acuerdo a la media de cada producto\"\"\"\n",
    "    means_product_prices = df_compra.groupby(by='IdProducto').mean().loc[:,'Precio']\n",
    "    id_prod = df_compra[df_compra['Precio'].isna()]['IdProducto']\n",
    "    if x.name == 'Precio':\n",
    "        price = means_product_prices[id_prod]\n",
    "        return np.round(price.values.tolist(), 2)\n",
    "    else:\n",
    "        return x"
   ],
   "metadata": {
    "collapsed": false,
    "pycharm": {
     "name": "#%%\n"
    }
   }
  },
  {
   "cell_type": "code",
   "execution_count": 96,
   "outputs": [],
   "source": [
    "df_compra[df_compra['Precio'].isna()] = df_compra[df_compra['Precio'].isna()].apply(fill_precio)"
   ],
   "metadata": {
    "collapsed": false,
    "pycharm": {
     "name": "#%%\n"
    }
   }
  },
  {
   "cell_type": "markdown",
   "source": [
    "# Tabla Sucursales"
   ],
   "metadata": {
    "collapsed": false,
    "pycharm": {
     "name": "#%% md\n"
    }
   }
  },
  {
   "cell_type": "code",
   "execution_count": 99,
   "outputs": [
    {
     "data": {
      "text/plain": "    ID            Sucursal                                 Direccion  \\\n0    1             Cabildo                          Av. Cabildo 1342   \n1    2           Palermo 1                            Guatemala 5701   \n2    3           Palermo 2        Gral. Lucio Norberto Mansilla 2668   \n3    4          Corrientes                       Av. Corrientes 2352   \n4    5             Almagro                            Venezuela 3650   \n5    6           Caballito                        Av. Rivadavia 4708   \n6    7              Flores                        Av. Rivadavia 5746   \n7    8             Alberdi            Av. Juan Bautista Alberdi 1634   \n8    9            Deposito                             Pedernera 530   \n9   10               Velez              Av. Juan Bautista Justo 7738   \n10  11       Vicente Lopez                             Av. Maipú 829   \n11  12          San Isidro                           Av. Sta Fe 2552   \n12  13             Caseros                Justo José de Urquiza 4770   \n13  14               Moron                                 Salta 250   \n14  15            Castelar                             Sta Rosa 1845   \n15  16           San Justo               Av. Dr. Ignacio Arieta 3451   \n16  17               Lanus  Pres. Tte. Gral. Juan Domingo Perón 3270   \n17  18          Avellaneda                   Av. Bartolomé Mitre 612   \n18  19             Quilmes                    Peatonal Rivadavia 185   \n19  20            La Plata                              Calle 48 974   \n20  21                MDQ1                           San Martín 2544   \n21  22                MDQ2                             Belgrano 2847   \n22  23            Rosario1                       Av. Pellegrini 1138   \n23  24            Rosario2                                Rueda 6349   \n24  25      Córdoba Centro                              Av Colón 251   \n25  26      Córdoba Quiroz                     Av Duarte Quirós 2910   \n26  27  Cerro de las Rosas                     Av. Rafael Núñez 4764   \n27  28             Tucumán                         Av. Sarmiento 525   \n28  29            Mendoza1                             Gutiérrez 349   \n29  30            Mendoza2                             Av. Colón 255   \n30  31           Bariloche                                 Mitre 252   \n\n                  Localidad                  Provincia      Latitud  \\\n0    Ciudad de Buenos Aires     Ciudad de Buenos Aires  -34,5678060   \n1                      CABA                       CABA  -34,5790350   \n2                      CABA           C deBuenos Aires  -34,5959660   \n3    Ciudad de Buenos Aires                      Bs As  -34,6046850   \n4                   Capital                    Bs.As.   -34,6173080   \n5           Capital Federal     Ciudad de Buenos Aires  -34,6163030   \n6                    CapFed               Buenos Aires  -34,6228680   \n7                 Cap. Fed.               Buenos Aires  -34,6273060   \n8            Cap.   Federal               Buenos Aires  -34,6351340   \n9      Cdad de Buenos Aires     Ciudad de Buenos Aires  -34,6312570   \n10            Vicente López               Buenos Aires  -34,5301030   \n11                 Martínez                   B. Aires  -34,4944020   \n12                  Caseros                    B.Aires  -34,6059480   \n13                    Moron               Buenos Aires  -34,6458960   \n14                 Castelar  Provincia de Buenos Aires  -34,6393040   \n15                San Justo               Buenos Aires  -34,6813890   \n16                    Lanus             Prov de Bs As.  -34,6698050   \n17               Avellaneda               Buenos Aires  -34,6610600   \n18                  Quilmes                 Pcia Bs AS  -34,7222530   \n19                 La Plata                 Pcia Bs AS  -34,9207770   \n20            Mar del Plata               Buenos Aires  -37,9996910   \n21            Mar del Plata               Buenos Aires  -37,9997630   \n22                  Rosario                   Santa Fe  -32,9570300   \n23                  Rosario                   Santa Fe  -32,9627480   \n24                  Córdoba                    Córdoba  -31,4127470   \n25                   Coroba                    Córdoba  -31,4075380   \n26                  Cordoba                    Cordoba  -31,3612540   \n27    San Miguel de Tucumán                    Tucumán  -26,8180450   \n28                  Mendoza                    Mendoza  -32,8875310   \n29                  Mendoza                    Mendoza  -32,8942920   \n30  San Carlos de Bariloche                  Río Negro  -41,1338280   \n\n       Longitud  \n0   -58,4495720  \n1   -58,4335660  \n2   -58,4051500  \n3   -58,3987640  \n4   -58,4161790  \n5   -58,4318490  \n6   -58,4464490  \n7   -58,4514980  \n8   -58,4615130  \n9   -58,4980630  \n10  -58,4800660  \n11  -58,4979510  \n12  -58,5633190  \n13  -58,6211490  \n14  -58,6556710  \n15  -58,5569190  \n16  -58,4113120  \n17  -58,3665150  \n18  -58,2575760  \n19  -57,9588890  \n20  -57,5463900  \n21  -57,5505770  \n22  -60,6413540  \n23  -60,7076290  \n24  -64,1864580  \n25  -64,2217380  \n26  -64,2378170  \n27  -65,2040710  \n28  -68,8433080  \n29  -68,8438020  \n30  -71,3063650  ",
      "text/html": "<div>\n<style scoped>\n    .dataframe tbody tr th:only-of-type {\n        vertical-align: middle;\n    }\n\n    .dataframe tbody tr th {\n        vertical-align: top;\n    }\n\n    .dataframe thead th {\n        text-align: right;\n    }\n</style>\n<table border=\"1\" class=\"dataframe\">\n  <thead>\n    <tr style=\"text-align: right;\">\n      <th></th>\n      <th>ID</th>\n      <th>Sucursal</th>\n      <th>Direccion</th>\n      <th>Localidad</th>\n      <th>Provincia</th>\n      <th>Latitud</th>\n      <th>Longitud</th>\n    </tr>\n  </thead>\n  <tbody>\n    <tr>\n      <th>0</th>\n      <td>1</td>\n      <td>Cabildo</td>\n      <td>Av. Cabildo 1342</td>\n      <td>Ciudad de Buenos Aires</td>\n      <td>Ciudad de Buenos Aires</td>\n      <td>-34,5678060</td>\n      <td>-58,4495720</td>\n    </tr>\n    <tr>\n      <th>1</th>\n      <td>2</td>\n      <td>Palermo 1</td>\n      <td>Guatemala 5701</td>\n      <td>CABA</td>\n      <td>CABA</td>\n      <td>-34,5790350</td>\n      <td>-58,4335660</td>\n    </tr>\n    <tr>\n      <th>2</th>\n      <td>3</td>\n      <td>Palermo 2</td>\n      <td>Gral. Lucio Norberto Mansilla 2668</td>\n      <td>CABA</td>\n      <td>C deBuenos Aires</td>\n      <td>-34,5959660</td>\n      <td>-58,4051500</td>\n    </tr>\n    <tr>\n      <th>3</th>\n      <td>4</td>\n      <td>Corrientes</td>\n      <td>Av. Corrientes 2352</td>\n      <td>Ciudad de Buenos Aires</td>\n      <td>Bs As</td>\n      <td>-34,6046850</td>\n      <td>-58,3987640</td>\n    </tr>\n    <tr>\n      <th>4</th>\n      <td>5</td>\n      <td>Almagro</td>\n      <td>Venezuela 3650</td>\n      <td>Capital</td>\n      <td>Bs.As.</td>\n      <td>-34,6173080</td>\n      <td>-58,4161790</td>\n    </tr>\n    <tr>\n      <th>5</th>\n      <td>6</td>\n      <td>Caballito</td>\n      <td>Av. Rivadavia 4708</td>\n      <td>Capital Federal</td>\n      <td>Ciudad de Buenos Aires</td>\n      <td>-34,6163030</td>\n      <td>-58,4318490</td>\n    </tr>\n    <tr>\n      <th>6</th>\n      <td>7</td>\n      <td>Flores</td>\n      <td>Av. Rivadavia 5746</td>\n      <td>CapFed</td>\n      <td>Buenos Aires</td>\n      <td>-34,6228680</td>\n      <td>-58,4464490</td>\n    </tr>\n    <tr>\n      <th>7</th>\n      <td>8</td>\n      <td>Alberdi</td>\n      <td>Av. Juan Bautista Alberdi 1634</td>\n      <td>Cap. Fed.</td>\n      <td>Buenos Aires</td>\n      <td>-34,6273060</td>\n      <td>-58,4514980</td>\n    </tr>\n    <tr>\n      <th>8</th>\n      <td>9</td>\n      <td>Deposito</td>\n      <td>Pedernera 530</td>\n      <td>Cap.   Federal</td>\n      <td>Buenos Aires</td>\n      <td>-34,6351340</td>\n      <td>-58,4615130</td>\n    </tr>\n    <tr>\n      <th>9</th>\n      <td>10</td>\n      <td>Velez</td>\n      <td>Av. Juan Bautista Justo 7738</td>\n      <td>Cdad de Buenos Aires</td>\n      <td>Ciudad de Buenos Aires</td>\n      <td>-34,6312570</td>\n      <td>-58,4980630</td>\n    </tr>\n    <tr>\n      <th>10</th>\n      <td>11</td>\n      <td>Vicente Lopez</td>\n      <td>Av. Maipú 829</td>\n      <td>Vicente López</td>\n      <td>Buenos Aires</td>\n      <td>-34,5301030</td>\n      <td>-58,4800660</td>\n    </tr>\n    <tr>\n      <th>11</th>\n      <td>12</td>\n      <td>San Isidro</td>\n      <td>Av. Sta Fe 2552</td>\n      <td>Martínez</td>\n      <td>B. Aires</td>\n      <td>-34,4944020</td>\n      <td>-58,4979510</td>\n    </tr>\n    <tr>\n      <th>12</th>\n      <td>13</td>\n      <td>Caseros</td>\n      <td>Justo José de Urquiza 4770</td>\n      <td>Caseros</td>\n      <td>B.Aires</td>\n      <td>-34,6059480</td>\n      <td>-58,5633190</td>\n    </tr>\n    <tr>\n      <th>13</th>\n      <td>14</td>\n      <td>Moron</td>\n      <td>Salta 250</td>\n      <td>Moron</td>\n      <td>Buenos Aires</td>\n      <td>-34,6458960</td>\n      <td>-58,6211490</td>\n    </tr>\n    <tr>\n      <th>14</th>\n      <td>15</td>\n      <td>Castelar</td>\n      <td>Sta Rosa 1845</td>\n      <td>Castelar</td>\n      <td>Provincia de Buenos Aires</td>\n      <td>-34,6393040</td>\n      <td>-58,6556710</td>\n    </tr>\n    <tr>\n      <th>15</th>\n      <td>16</td>\n      <td>San Justo</td>\n      <td>Av. Dr. Ignacio Arieta 3451</td>\n      <td>San Justo</td>\n      <td>Buenos Aires</td>\n      <td>-34,6813890</td>\n      <td>-58,5569190</td>\n    </tr>\n    <tr>\n      <th>16</th>\n      <td>17</td>\n      <td>Lanus</td>\n      <td>Pres. Tte. Gral. Juan Domingo Perón 3270</td>\n      <td>Lanus</td>\n      <td>Prov de Bs As.</td>\n      <td>-34,6698050</td>\n      <td>-58,4113120</td>\n    </tr>\n    <tr>\n      <th>17</th>\n      <td>18</td>\n      <td>Avellaneda</td>\n      <td>Av. Bartolomé Mitre 612</td>\n      <td>Avellaneda</td>\n      <td>Buenos Aires</td>\n      <td>-34,6610600</td>\n      <td>-58,3665150</td>\n    </tr>\n    <tr>\n      <th>18</th>\n      <td>19</td>\n      <td>Quilmes</td>\n      <td>Peatonal Rivadavia 185</td>\n      <td>Quilmes</td>\n      <td>Pcia Bs AS</td>\n      <td>-34,7222530</td>\n      <td>-58,2575760</td>\n    </tr>\n    <tr>\n      <th>19</th>\n      <td>20</td>\n      <td>La Plata</td>\n      <td>Calle 48 974</td>\n      <td>La Plata</td>\n      <td>Pcia Bs AS</td>\n      <td>-34,9207770</td>\n      <td>-57,9588890</td>\n    </tr>\n    <tr>\n      <th>20</th>\n      <td>21</td>\n      <td>MDQ1</td>\n      <td>San Martín 2544</td>\n      <td>Mar del Plata</td>\n      <td>Buenos Aires</td>\n      <td>-37,9996910</td>\n      <td>-57,5463900</td>\n    </tr>\n    <tr>\n      <th>21</th>\n      <td>22</td>\n      <td>MDQ2</td>\n      <td>Belgrano 2847</td>\n      <td>Mar del Plata</td>\n      <td>Buenos Aires</td>\n      <td>-37,9997630</td>\n      <td>-57,5505770</td>\n    </tr>\n    <tr>\n      <th>22</th>\n      <td>23</td>\n      <td>Rosario1</td>\n      <td>Av. Pellegrini 1138</td>\n      <td>Rosario</td>\n      <td>Santa Fe</td>\n      <td>-32,9570300</td>\n      <td>-60,6413540</td>\n    </tr>\n    <tr>\n      <th>23</th>\n      <td>24</td>\n      <td>Rosario2</td>\n      <td>Rueda 6349</td>\n      <td>Rosario</td>\n      <td>Santa Fe</td>\n      <td>-32,9627480</td>\n      <td>-60,7076290</td>\n    </tr>\n    <tr>\n      <th>24</th>\n      <td>25</td>\n      <td>Córdoba Centro</td>\n      <td>Av Colón 251</td>\n      <td>Córdoba</td>\n      <td>Córdoba</td>\n      <td>-31,4127470</td>\n      <td>-64,1864580</td>\n    </tr>\n    <tr>\n      <th>25</th>\n      <td>26</td>\n      <td>Córdoba Quiroz</td>\n      <td>Av Duarte Quirós 2910</td>\n      <td>Coroba</td>\n      <td>Córdoba</td>\n      <td>-31,4075380</td>\n      <td>-64,2217380</td>\n    </tr>\n    <tr>\n      <th>26</th>\n      <td>27</td>\n      <td>Cerro de las Rosas</td>\n      <td>Av. Rafael Núñez 4764</td>\n      <td>Cordoba</td>\n      <td>Cordoba</td>\n      <td>-31,3612540</td>\n      <td>-64,2378170</td>\n    </tr>\n    <tr>\n      <th>27</th>\n      <td>28</td>\n      <td>Tucumán</td>\n      <td>Av. Sarmiento 525</td>\n      <td>San Miguel de Tucumán</td>\n      <td>Tucumán</td>\n      <td>-26,8180450</td>\n      <td>-65,2040710</td>\n    </tr>\n    <tr>\n      <th>28</th>\n      <td>29</td>\n      <td>Mendoza1</td>\n      <td>Gutiérrez 349</td>\n      <td>Mendoza</td>\n      <td>Mendoza</td>\n      <td>-32,8875310</td>\n      <td>-68,8433080</td>\n    </tr>\n    <tr>\n      <th>29</th>\n      <td>30</td>\n      <td>Mendoza2</td>\n      <td>Av. Colón 255</td>\n      <td>Mendoza</td>\n      <td>Mendoza</td>\n      <td>-32,8942920</td>\n      <td>-68,8438020</td>\n    </tr>\n    <tr>\n      <th>30</th>\n      <td>31</td>\n      <td>Bariloche</td>\n      <td>Mitre 252</td>\n      <td>San Carlos de Bariloche</td>\n      <td>Río Negro</td>\n      <td>-41,1338280</td>\n      <td>-71,3063650</td>\n    </tr>\n  </tbody>\n</table>\n</div>"
     },
     "execution_count": 99,
     "metadata": {},
     "output_type": "execute_result"
    }
   ],
   "source": [
    "df_suc"
   ],
   "metadata": {
    "collapsed": false,
    "pycharm": {
     "name": "#%%\n"
    }
   }
  }
 ],
 "metadata": {
  "kernelspec": {
   "display_name": "Python 3",
   "language": "python",
   "name": "python3"
  },
  "language_info": {
   "codemirror_mode": {
    "name": "ipython",
    "version": 2
   },
   "file_extension": ".py",
   "mimetype": "text/x-python",
   "name": "python",
   "nbconvert_exporter": "python",
   "pygments_lexer": "ipython2",
   "version": "2.7.6"
  }
 },
 "nbformat": 4,
 "nbformat_minor": 0
}