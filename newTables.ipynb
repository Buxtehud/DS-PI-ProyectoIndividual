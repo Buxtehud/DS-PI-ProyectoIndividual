{
 "cells": [
  {
   "cell_type": "code",
   "execution_count": 46,
   "outputs": [],
   "source": [
    "import pandas as pd\n",
    "import numpy as np\n",
    "from thefuzz import fuzz\n",
    "from thefuzz import process"
   ],
   "metadata": {
    "collapsed": false,
    "pycharm": {
     "name": "#%%\n"
    }
   }
  },
  {
   "cell_type": "code",
   "execution_count": 47,
   "outputs": [],
   "source": [
    "df_canal = pd.read_csv('./Datasets/CanalDeVenta.csv')\n",
    "df_clientes = pd.read_csv('./Datasets/Clientes.csv', delimiter=';', encoding='utf-8')\n",
    "df_compra = pd.read_csv('./Datasets/Compra.csv')\n",
    "df_gasto = pd.read_csv('./Datasets/Gasto.csv')\n",
    "df_local = pd.read_csv('./Datasets/Localidades.csv')\n",
    "df_prov = pd.read_csv('./Datasets/Proveedores.csv', encoding='iso-8859-1')\n",
    "df_suc = pd.read_csv('./Datasets/Sucursales.csv', delimiter=';')\n",
    "df_tipo = pd.read_csv('./Datasets/TiposDeGasto.csv')\n",
    "df_venta = pd.read_csv('./Datasets/Venta.csv')"
   ],
   "metadata": {
    "collapsed": false,
    "pycharm": {
     "name": "#%%\n"
    }
   }
  },
  {
   "cell_type": "markdown",
   "source": [
    "# Tabla Venta"
   ],
   "metadata": {
    "collapsed": false,
    "pycharm": {
     "name": "#%% md\n"
    }
   }
  },
  {
   "cell_type": "code",
   "execution_count": 48,
   "outputs": [],
   "source": [
    "def get_moda(df, element_id, referencia, target):\n",
    "    \"\"\"Obtiene la moda de una columna target filtrando a través de la columna referencia\"\"\"\n",
    "    df_moda = df[df[referencia] == element_id].mode()\n",
    "    return df_moda[target][0]"
   ],
   "metadata": {
    "collapsed": false,
    "pycharm": {
     "name": "#%%\n"
    }
   }
  },
  {
   "cell_type": "code",
   "execution_count": 49,
   "outputs": [],
   "source": [
    "def input_moda(df, element_id, referencia, target):\n",
    "    \"\"\"Cambia todos los valores de las columnas al valor de la moda\"\"\"\n",
    "    moda = get_moda(df, element_id, referencia, target)\n",
    "    df.loc[(df[target] != moda) & (df[referencia] == element_id), target] = moda"
   ],
   "metadata": {
    "collapsed": false,
    "pycharm": {
     "name": "#%%\n"
    }
   }
  },
  {
   "cell_type": "code",
   "execution_count": 50,
   "outputs": [],
   "source": [
    "def fill_moda(df, columna_filtro, target):\n",
    "    productos = [x for x in df[columna_filtro].unique()]\n",
    "    for product in productos:\n",
    "        input_moda(df_venta, product, columna_filtro, target)"
   ],
   "metadata": {
    "collapsed": false,
    "pycharm": {
     "name": "#%%\n"
    }
   }
  },
  {
   "cell_type": "code",
   "execution_count": 51,
   "outputs": [],
   "source": [
    "fill_moda(df_venta, 'IdProducto', 'Precio')"
   ],
   "metadata": {
    "collapsed": false,
    "pycharm": {
     "name": "#%%\n"
    }
   }
  },
  {
   "cell_type": "markdown",
   "source": [
    "# Localidad"
   ],
   "metadata": {
    "collapsed": false,
    "pycharm": {
     "name": "#%% md\n"
    }
   }
  },
  {
   "cell_type": "code",
   "execution_count": 52,
   "outputs": [],
   "source": [
    "df_provincias = df_local.loc[:,['provincia_id','provincia_nombre']].drop_duplicates()\n",
    "df_localidades = df_local.loc[:,['nombre', 'id']].drop_duplicates()"
   ],
   "metadata": {
    "collapsed": false,
    "pycharm": {
     "name": "#%%\n"
    }
   }
  },
  {
   "cell_type": "markdown",
   "source": [
    "# Tabla Clientes"
   ],
   "metadata": {
    "collapsed": false,
    "pycharm": {
     "name": "#%% md\n"
    }
   }
  },
  {
   "cell_type": "code",
   "execution_count": 53,
   "outputs": [],
   "source": [
    "df_clientes = df_clientes.drop(columns='col10')"
   ],
   "metadata": {
    "collapsed": false,
    "pycharm": {
     "name": "#%%\n"
    }
   }
  },
  {
   "cell_type": "code",
   "execution_count": 54,
   "outputs": [],
   "source": [
    "def get_apellidos(df, columna):\n",
    "    apellidos = []\n",
    "    for nombre in df[columna]:\n",
    "        if isinstance(nombre, str):\n",
    "            nombre = nombre.upper()\n",
    "            if ', ' in nombre:\n",
    "                apellidos.append(nombre.split(', ')[0])\n",
    "            else:\n",
    "                words = nombre.split(' ')\n",
    "                if len(words) > 3:\n",
    "                    last = words[-2:]\n",
    "                    apellidos.append(' '.join(last))\n",
    "                else:\n",
    "                    apellidos.append(words[-1])\n",
    "        else:\n",
    "            apellidos.append(float('NaN'))\n",
    "    return apellidos"
   ],
   "metadata": {
    "collapsed": false,
    "pycharm": {
     "name": "#%%\n"
    }
   }
  },
  {
   "cell_type": "code",
   "execution_count": 55,
   "outputs": [],
   "source": [
    "def get_names(element):\n",
    "    \"\"\"Obtengo sólo los nombres\"\"\"\n",
    "    if isinstance(element, str):\n",
    "        element = element.upper()\n",
    "        if ', ' in element:\n",
    "            return element.split(', ')[1]\n",
    "\n",
    "        names_last = element.split(' ')\n",
    "        if len(names_last) > 3:\n",
    "            names = names_last[:-2]\n",
    "        else:\n",
    "            names = names_last[:-1]\n",
    "\n",
    "        return ' '.join(names)"
   ],
   "metadata": {
    "collapsed": false,
    "pycharm": {
     "name": "#%%\n"
    }
   }
  },
  {
   "cell_type": "code",
   "execution_count": 56,
   "outputs": [],
   "source": [
    "def nombre_apellido(df):\n",
    "    \"\"\"Creo una columna de apellidos y nombres por separado\"\"\"\n",
    "    apellidos = get_apellidos(df, 'Nombre_y_Apellido')\n",
    "    df.insert(3, 'Apellido', apellidos)\n",
    "    df['Nombre_y_Apellido'] = df['Nombre_y_Apellido'].apply(get_names)\n",
    "    df.rename(columns={'Nombre_y_Apellido':'Nombre'}, inplace=True)\n"
   ],
   "metadata": {
    "collapsed": false,
    "pycharm": {
     "name": "#%%\n"
    }
   }
  },
  {
   "cell_type": "code",
   "execution_count": 57,
   "outputs": [],
   "source": [
    "nombre_apellido(df_clientes)"
   ],
   "metadata": {
    "collapsed": false,
    "pycharm": {
     "name": "#%%\n"
    }
   }
  },
  {
   "cell_type": "code",
   "execution_count": 58,
   "outputs": [],
   "source": [
    "def provincia_to_id(element, target):\n",
    "    \"\"\"Obtengo el Id de la provincia y reemplazo su nombre\"\"\"\n",
    "    if target == 'Provincia':\n",
    "        search = 'provincia_id'\n",
    "        filter = 'provincia_nombre'\n",
    "        df = df_provincias\n",
    "    elif target == 'Localidad':\n",
    "        search = 'id'\n",
    "        filter = 'nombre'\n",
    "        df = df_localidades\n",
    "    else:\n",
    "        return float('NaN')\n",
    "    if isinstance(element, str):\n",
    "        mask = df[df[filter].apply(lambda x: fuzz.partial_ratio(x,element)) > 80] # Aplico la función de fuzz, que implementa Levinshtein, para obtener el id de la provincia\n",
    "        return mask[search].values.tolist()[0]\n",
    "    else:\n",
    "        return element"
   ],
   "metadata": {
    "collapsed": false,
    "pycharm": {
     "name": "#%%\n"
    }
   }
  },
  {
   "cell_type": "code",
   "execution_count": 59,
   "outputs": [],
   "source": [
    "def idprovincia(df, target):\n",
    "    \"\"\"Aplica la función provincia_to_id a un dataset\"\"\"\n",
    "    df[target] = df[target].apply(lambda x: provincia_to_id(x, target))\n",
    "    df.rename(columns={target:f'Id{target}'}, inplace=True)\n",
    "    df[f'Id{target}'] = df[f'Id{target}'].astype('Int64')"
   ],
   "metadata": {
    "collapsed": false,
    "pycharm": {
     "name": "#%%\n"
    }
   }
  },
  {
   "cell_type": "code",
   "execution_count": 60,
   "outputs": [],
   "source": [
    "idprovincia(df_clientes, 'Provincia')"
   ],
   "metadata": {
    "collapsed": false,
    "pycharm": {
     "name": "#%%\n"
    }
   }
  },
  {
   "cell_type": "code",
   "execution_count": 62,
   "outputs": [],
   "source": [
    "def replace_comma(x):\n",
    "    if isinstance(x, str) and len(x) > 2:\n",
    "        return float(x.replace(',', '.'))\n",
    "    else:\n",
    "        return x"
   ],
   "metadata": {
    "collapsed": false,
    "pycharm": {
     "name": "#%%\n"
    }
   }
  },
  {
   "cell_type": "code",
   "execution_count": 63,
   "outputs": [],
   "source": [
    "def input_replaced_comma(df):\n",
    "    \"\"\"Se aplica la función replace_comma a un dataset\"\"\"\n",
    "    df.X = df.X.apply(replace_comma)\n",
    "    df.Y = df.Y.apply(replace_comma)"
   ],
   "metadata": {
    "collapsed": false,
    "pycharm": {
     "name": "#%%\n"
    }
   }
  },
  {
   "cell_type": "code",
   "execution_count": 64,
   "outputs": [],
   "source": [
    "input_replaced_comma(df_clientes)"
   ],
   "metadata": {
    "collapsed": false,
    "pycharm": {
     "name": "#%%\n"
    }
   }
  },
  {
   "cell_type": "code",
   "execution_count": 66,
   "outputs": [],
   "source": [
    "def closer_location(df, cen_lon, cen_lat, lon, lat, target):\n",
    "    \"\"\"De acuerdo a las coordenadas del cliente, determino cuál es la localización más cercana\"\"\"\n",
    "    result = np.nan\n",
    "    for i in range(1,500): # Itero para varios radios\n",
    "        if len(df[(df[cen_lon].apply(lambda x: int(abs(x-lon)*i)) == 0) & (df[cen_lat].apply(lambda y: int(abs(y-lat)*i)) == 0)]) == 0:\n",
    "            result = df[(df[cen_lon].apply(lambda x: int(abs(x-lon)*(i-1))) == 0) & (df[cen_lat].apply(lambda y: int(abs(y-lat)*(i-1))) == 0)]\n",
    "            break\n",
    "    return result[target].values.tolist()[0]"
   ],
   "metadata": {
    "collapsed": false,
    "pycharm": {
     "name": "#%%\n"
    }
   }
  },
  {
   "cell_type": "code",
   "execution_count": 67,
   "outputs": [],
   "source": [
    "def get_location(x, df, target_col):\n",
    "    \"\"\"Lleno los valores faltantes en localidad o provincia usando las coordenadas\"\"\"\n",
    "    na_local = df[df[target_col].isna()]\n",
    "    if x.name == target_col:\n",
    "        names = []\n",
    "        ind = x.index\n",
    "        if target_col == 'IdProvincia':\n",
    "            target = 'provincia_id'\n",
    "        else:\n",
    "            target = 'nombre'\n",
    "        lon = na_local.loc[ind, 'X'].values\n",
    "        lat = na_local.loc[ind, 'Y'].values\n",
    "        for i in range(len(lon)):\n",
    "            names.append(closer_location(df_local, 'centroide_lon', 'centroide_lat', lon[i], lat[i], target))\n",
    "        return pd.Series(names, ind)\n",
    "    else:\n",
    "        return x\n"
   ],
   "metadata": {
    "collapsed": false,
    "pycharm": {
     "name": "#%%\n"
    }
   }
  },
  {
   "cell_type": "code",
   "execution_count": 68,
   "outputs": [],
   "source": [
    "def fill_location(df, target):\n",
    "    df[df[target].isna()] = df[df[target].isna()].apply(lambda x: get_location(x, df, target))"
   ],
   "metadata": {
    "collapsed": false,
    "pycharm": {
     "name": "#%%\n"
    }
   }
  },
  {
   "cell_type": "code",
   "execution_count": 69,
   "outputs": [],
   "source": [
    "fill_location(df_clientes, 'Localidad')\n",
    "fill_location(df_clientes, 'IdProvincia')"
   ],
   "metadata": {
    "collapsed": false,
    "pycharm": {
     "name": "#%%\n"
    }
   }
  },
  {
   "cell_type": "code",
   "execution_count": 70,
   "outputs": [],
   "source": [
    "df_clientes.fillna('None', inplace=True)"
   ],
   "metadata": {
    "collapsed": false,
    "pycharm": {
     "name": "#%%\n"
    }
   }
  },
  {
   "cell_type": "markdown",
   "source": [
    "# Tabla Compra"
   ],
   "metadata": {
    "collapsed": false,
    "pycharm": {
     "name": "#%% md\n"
    }
   }
  },
  {
   "cell_type": "code",
   "execution_count": 71,
   "outputs": [],
   "source": [
    "def fill_precio(x):\n",
    "    \"\"\"Completa los precios faltantes de acuerdo a la media de cada producto\"\"\"\n",
    "    means_product_prices = df_compra.groupby(by='IdProducto').mean().loc[:,'Precio']\n",
    "    id_prod = df_compra[df_compra['Precio'].isna()]['IdProducto']\n",
    "    if x.name == 'Precio':\n",
    "        price = means_product_prices[id_prod]\n",
    "        return np.round(price.values.tolist(), 2)\n",
    "    else:\n",
    "        return x"
   ],
   "metadata": {
    "collapsed": false,
    "pycharm": {
     "name": "#%%\n"
    }
   }
  },
  {
   "cell_type": "code",
   "execution_count": 72,
   "outputs": [],
   "source": [
    "df_compra[df_compra['Precio'].isna()] = df_compra[df_compra['Precio'].isna()].apply(fill_precio)"
   ],
   "metadata": {
    "collapsed": false,
    "pycharm": {
     "name": "#%%\n"
    }
   }
  },
  {
   "cell_type": "markdown",
   "source": [
    "# Tabla Sucursales"
   ],
   "metadata": {
    "collapsed": false,
    "pycharm": {
     "name": "#%% md\n"
    }
   }
  },
  {
   "cell_type": "code",
   "execution_count": 73,
   "outputs": [],
   "source": [
    "def fix_provincia(x, target):\n",
    "    \"\"\"Corrijo la provincia o localidad de una sucursal\"\"\"\n",
    "    if isinstance(x, str):\n",
    "        result = process.extractOne(x.lower(), ['ciudad de buenos aires', 'caba', 'bs as', 'capital federal', 'cap fed'],score_cutoff=80)\n",
    "        if result and result[1] > 80 and target == 'Provincia':\n",
    "            text = 'BUENOS AIRES'\n",
    "        elif result and result[1] > 80 and target == 'Localidad':\n",
    "            text = 'CIUDAD DE BUENOS AIRES'\n",
    "        else:\n",
    "            text = x.upper()\n",
    "        return text\n",
    "    else:\n",
    "        return x"
   ],
   "metadata": {
    "collapsed": false,
    "pycharm": {
     "name": "#%%\n"
    }
   }
  },
  {
   "cell_type": "code",
   "execution_count": 74,
   "outputs": [],
   "source": [
    "df_suc['Provincia'] = df_suc['Provincia'].apply(lambda x: fix_provincia(x, 'Provincia'))\n",
    "df_suc['Localidad'] = df_suc['Localidad'].apply(lambda x: fix_provincia(x, 'Localidad'))"
   ],
   "metadata": {
    "collapsed": false,
    "pycharm": {
     "name": "#%%\n"
    }
   }
  },
  {
   "cell_type": "markdown",
   "source": [
    "# Tabla Proveedores"
   ],
   "metadata": {
    "collapsed": false,
    "pycharm": {
     "name": "#%% md\n"
    }
   }
  },
  {
   "cell_type": "code",
   "execution_count": 75,
   "outputs": [],
   "source": [
    "df_prov.rename(columns={'Address':'Direccion', 'City':'Localidad', 'State': 'Provincia'}, inplace=True)\n",
    "df_prov.drop(columns=['departamen', 'Country'], inplace=True)"
   ],
   "metadata": {
    "collapsed": false,
    "pycharm": {
     "name": "#%%\n"
    }
   }
  },
  {
   "cell_type": "code",
   "execution_count": 76,
   "outputs": [
    {
     "name": "stderr",
     "output_type": "stream",
     "text": [
      "<ipython-input-76-679092b53d29>:1: SettingWithCopyWarning: \n",
      "A value is trying to be set on a copy of a slice from a DataFrame\n",
      "\n",
      "See the caveats in the documentation: https://pandas.pydata.org/pandas-docs/stable/user_guide/indexing.html#returning-a-view-versus-a-copy\n",
      "  df_prov['Localidad'][df_prov['Provincia'] == 'CABA'] = 'CIUDAD DE BUENOS AIRES'\n"
     ]
    }
   ],
   "source": [
    "df_prov['Localidad'][df_prov['Provincia'] == 'CABA'] = 'CIUDAD DE BUENOS AIRES'\n",
    "df_prov['Provincia'] = df_prov['Provincia'].apply(lambda x: fix_provincia(x, 'Provincia'))"
   ],
   "metadata": {
    "collapsed": false,
    "pycharm": {
     "name": "#%%\n"
    }
   }
  },
  {
   "cell_type": "code",
   "execution_count": 78,
   "outputs": [],
   "source": [
    "def fill_precio(x):\n",
    "    \"\"\"Completa los precios faltantes de acuerdo a la media de cada producto\"\"\"\n",
    "    means_product_prices = df_compra.groupby(by='IdProducto').mean().loc[:,'Precio']\n",
    "    id_prod = df_compra[df_compra['Precio'].isna()]['IdProducto']\n",
    "    if x.name == 'Precio':\n",
    "        price = means_product_prices[id_prod]\n",
    "        return np.round(price.values.tolist(), 2)\n",
    "    else:\n",
    "        return x"
   ],
   "metadata": {
    "collapsed": false,
    "pycharm": {
     "name": "#%%\n"
    }
   }
  },
  {
   "cell_type": "code",
   "execution_count": 79,
   "outputs": [],
   "source": [
    "df_compra[df_compra['Precio'].isna()] = df_compra[df_compra['Precio'].isna()].apply(fill_precio)"
   ],
   "metadata": {
    "collapsed": false,
    "pycharm": {
     "name": "#%%\n"
    }
   }
  },
  {
   "cell_type": "markdown",
   "source": [
    "# Tabla Sucursales"
   ],
   "metadata": {
    "collapsed": false,
    "pycharm": {
     "name": "#%% md\n"
    }
   }
  },
  {
   "cell_type": "code",
   "execution_count": 80,
   "outputs": [
    {
     "data": {
      "text/plain": "    ID            Sucursal                                 Direccion  \\\n0    1             Cabildo                          Av. Cabildo 1342   \n1    2           Palermo 1                            Guatemala 5701   \n2    3           Palermo 2        Gral. Lucio Norberto Mansilla 2668   \n3    4          Corrientes                       Av. Corrientes 2352   \n4    5             Almagro                            Venezuela 3650   \n5    6           Caballito                        Av. Rivadavia 4708   \n6    7              Flores                        Av. Rivadavia 5746   \n7    8             Alberdi            Av. Juan Bautista Alberdi 1634   \n8    9            Deposito                             Pedernera 530   \n9   10               Velez              Av. Juan Bautista Justo 7738   \n10  11       Vicente Lopez                             Av. Maipú 829   \n11  12          San Isidro                           Av. Sta Fe 2552   \n12  13             Caseros                Justo José de Urquiza 4770   \n13  14               Moron                                 Salta 250   \n14  15            Castelar                             Sta Rosa 1845   \n15  16           San Justo               Av. Dr. Ignacio Arieta 3451   \n16  17               Lanus  Pres. Tte. Gral. Juan Domingo Perón 3270   \n17  18          Avellaneda                   Av. Bartolomé Mitre 612   \n18  19             Quilmes                    Peatonal Rivadavia 185   \n19  20            La Plata                              Calle 48 974   \n20  21                MDQ1                           San Martín 2544   \n21  22                MDQ2                             Belgrano 2847   \n22  23            Rosario1                       Av. Pellegrini 1138   \n23  24            Rosario2                                Rueda 6349   \n24  25      Córdoba Centro                              Av Colón 251   \n25  26      Córdoba Quiroz                     Av Duarte Quirós 2910   \n26  27  Cerro de las Rosas                     Av. Rafael Núñez 4764   \n27  28             Tucumán                         Av. Sarmiento 525   \n28  29            Mendoza1                             Gutiérrez 349   \n29  30            Mendoza2                             Av. Colón 255   \n30  31           Bariloche                                 Mitre 252   \n\n                  Localidad     Provincia      Latitud     Longitud  \n0    CIUDAD DE BUENOS AIRES  BUENOS AIRES  -34,5678060  -58,4495720  \n1    CIUDAD DE BUENOS AIRES  BUENOS AIRES  -34,5790350  -58,4335660  \n2    CIUDAD DE BUENOS AIRES  BUENOS AIRES  -34,5959660  -58,4051500  \n3    CIUDAD DE BUENOS AIRES  BUENOS AIRES  -34,6046850  -58,3987640  \n4    CIUDAD DE BUENOS AIRES  BUENOS AIRES  -34,6173080  -58,4161790  \n5    CIUDAD DE BUENOS AIRES  BUENOS AIRES  -34,6163030  -58,4318490  \n6    CIUDAD DE BUENOS AIRES  BUENOS AIRES  -34,6228680  -58,4464490  \n7    CIUDAD DE BUENOS AIRES  BUENOS AIRES  -34,6273060  -58,4514980  \n8    CIUDAD DE BUENOS AIRES  BUENOS AIRES  -34,6351340  -58,4615130  \n9    CIUDAD DE BUENOS AIRES  BUENOS AIRES  -34,6312570  -58,4980630  \n10            VICENTE LÓPEZ  BUENOS AIRES  -34,5301030  -58,4800660  \n11                 MARTÍNEZ  BUENOS AIRES  -34,4944020  -58,4979510  \n12                  CASEROS  BUENOS AIRES  -34,6059480  -58,5633190  \n13                    MORON  BUENOS AIRES  -34,6458960  -58,6211490  \n14                 CASTELAR  BUENOS AIRES  -34,6393040  -58,6556710  \n15                SAN JUSTO  BUENOS AIRES  -34,6813890  -58,5569190  \n16                    LANUS  BUENOS AIRES  -34,6698050  -58,4113120  \n17               AVELLANEDA  BUENOS AIRES  -34,6610600  -58,3665150  \n18                  QUILMES  BUENOS AIRES  -34,7222530  -58,2575760  \n19                 LA PLATA  BUENOS AIRES  -34,9207770  -57,9588890  \n20            MAR DEL PLATA  BUENOS AIRES  -37,9996910  -57,5463900  \n21            MAR DEL PLATA  BUENOS AIRES  -37,9997630  -57,5505770  \n22                  ROSARIO      SANTA FE  -32,9570300  -60,6413540  \n23                  ROSARIO      SANTA FE  -32,9627480  -60,7076290  \n24                  CÓRDOBA       CÓRDOBA  -31,4127470  -64,1864580  \n25                   COROBA       CÓRDOBA  -31,4075380  -64,2217380  \n26                  CORDOBA       CORDOBA  -31,3612540  -64,2378170  \n27    SAN MIGUEL DE TUCUMÁN       TUCUMÁN  -26,8180450  -65,2040710  \n28                  MENDOZA       MENDOZA  -32,8875310  -68,8433080  \n29                  MENDOZA       MENDOZA  -32,8942920  -68,8438020  \n30  SAN CARLOS DE BARILOCHE     RÍO NEGRO  -41,1338280  -71,3063650  ",
      "text/html": "<div>\n<style scoped>\n    .dataframe tbody tr th:only-of-type {\n        vertical-align: middle;\n    }\n\n    .dataframe tbody tr th {\n        vertical-align: top;\n    }\n\n    .dataframe thead th {\n        text-align: right;\n    }\n</style>\n<table border=\"1\" class=\"dataframe\">\n  <thead>\n    <tr style=\"text-align: right;\">\n      <th></th>\n      <th>ID</th>\n      <th>Sucursal</th>\n      <th>Direccion</th>\n      <th>Localidad</th>\n      <th>Provincia</th>\n      <th>Latitud</th>\n      <th>Longitud</th>\n    </tr>\n  </thead>\n  <tbody>\n    <tr>\n      <th>0</th>\n      <td>1</td>\n      <td>Cabildo</td>\n      <td>Av. Cabildo 1342</td>\n      <td>CIUDAD DE BUENOS AIRES</td>\n      <td>BUENOS AIRES</td>\n      <td>-34,5678060</td>\n      <td>-58,4495720</td>\n    </tr>\n    <tr>\n      <th>1</th>\n      <td>2</td>\n      <td>Palermo 1</td>\n      <td>Guatemala 5701</td>\n      <td>CIUDAD DE BUENOS AIRES</td>\n      <td>BUENOS AIRES</td>\n      <td>-34,5790350</td>\n      <td>-58,4335660</td>\n    </tr>\n    <tr>\n      <th>2</th>\n      <td>3</td>\n      <td>Palermo 2</td>\n      <td>Gral. Lucio Norberto Mansilla 2668</td>\n      <td>CIUDAD DE BUENOS AIRES</td>\n      <td>BUENOS AIRES</td>\n      <td>-34,5959660</td>\n      <td>-58,4051500</td>\n    </tr>\n    <tr>\n      <th>3</th>\n      <td>4</td>\n      <td>Corrientes</td>\n      <td>Av. Corrientes 2352</td>\n      <td>CIUDAD DE BUENOS AIRES</td>\n      <td>BUENOS AIRES</td>\n      <td>-34,6046850</td>\n      <td>-58,3987640</td>\n    </tr>\n    <tr>\n      <th>4</th>\n      <td>5</td>\n      <td>Almagro</td>\n      <td>Venezuela 3650</td>\n      <td>CIUDAD DE BUENOS AIRES</td>\n      <td>BUENOS AIRES</td>\n      <td>-34,6173080</td>\n      <td>-58,4161790</td>\n    </tr>\n    <tr>\n      <th>5</th>\n      <td>6</td>\n      <td>Caballito</td>\n      <td>Av. Rivadavia 4708</td>\n      <td>CIUDAD DE BUENOS AIRES</td>\n      <td>BUENOS AIRES</td>\n      <td>-34,6163030</td>\n      <td>-58,4318490</td>\n    </tr>\n    <tr>\n      <th>6</th>\n      <td>7</td>\n      <td>Flores</td>\n      <td>Av. Rivadavia 5746</td>\n      <td>CIUDAD DE BUENOS AIRES</td>\n      <td>BUENOS AIRES</td>\n      <td>-34,6228680</td>\n      <td>-58,4464490</td>\n    </tr>\n    <tr>\n      <th>7</th>\n      <td>8</td>\n      <td>Alberdi</td>\n      <td>Av. Juan Bautista Alberdi 1634</td>\n      <td>CIUDAD DE BUENOS AIRES</td>\n      <td>BUENOS AIRES</td>\n      <td>-34,6273060</td>\n      <td>-58,4514980</td>\n    </tr>\n    <tr>\n      <th>8</th>\n      <td>9</td>\n      <td>Deposito</td>\n      <td>Pedernera 530</td>\n      <td>CIUDAD DE BUENOS AIRES</td>\n      <td>BUENOS AIRES</td>\n      <td>-34,6351340</td>\n      <td>-58,4615130</td>\n    </tr>\n    <tr>\n      <th>9</th>\n      <td>10</td>\n      <td>Velez</td>\n      <td>Av. Juan Bautista Justo 7738</td>\n      <td>CIUDAD DE BUENOS AIRES</td>\n      <td>BUENOS AIRES</td>\n      <td>-34,6312570</td>\n      <td>-58,4980630</td>\n    </tr>\n    <tr>\n      <th>10</th>\n      <td>11</td>\n      <td>Vicente Lopez</td>\n      <td>Av. Maipú 829</td>\n      <td>VICENTE LÓPEZ</td>\n      <td>BUENOS AIRES</td>\n      <td>-34,5301030</td>\n      <td>-58,4800660</td>\n    </tr>\n    <tr>\n      <th>11</th>\n      <td>12</td>\n      <td>San Isidro</td>\n      <td>Av. Sta Fe 2552</td>\n      <td>MARTÍNEZ</td>\n      <td>BUENOS AIRES</td>\n      <td>-34,4944020</td>\n      <td>-58,4979510</td>\n    </tr>\n    <tr>\n      <th>12</th>\n      <td>13</td>\n      <td>Caseros</td>\n      <td>Justo José de Urquiza 4770</td>\n      <td>CASEROS</td>\n      <td>BUENOS AIRES</td>\n      <td>-34,6059480</td>\n      <td>-58,5633190</td>\n    </tr>\n    <tr>\n      <th>13</th>\n      <td>14</td>\n      <td>Moron</td>\n      <td>Salta 250</td>\n      <td>MORON</td>\n      <td>BUENOS AIRES</td>\n      <td>-34,6458960</td>\n      <td>-58,6211490</td>\n    </tr>\n    <tr>\n      <th>14</th>\n      <td>15</td>\n      <td>Castelar</td>\n      <td>Sta Rosa 1845</td>\n      <td>CASTELAR</td>\n      <td>BUENOS AIRES</td>\n      <td>-34,6393040</td>\n      <td>-58,6556710</td>\n    </tr>\n    <tr>\n      <th>15</th>\n      <td>16</td>\n      <td>San Justo</td>\n      <td>Av. Dr. Ignacio Arieta 3451</td>\n      <td>SAN JUSTO</td>\n      <td>BUENOS AIRES</td>\n      <td>-34,6813890</td>\n      <td>-58,5569190</td>\n    </tr>\n    <tr>\n      <th>16</th>\n      <td>17</td>\n      <td>Lanus</td>\n      <td>Pres. Tte. Gral. Juan Domingo Perón 3270</td>\n      <td>LANUS</td>\n      <td>BUENOS AIRES</td>\n      <td>-34,6698050</td>\n      <td>-58,4113120</td>\n    </tr>\n    <tr>\n      <th>17</th>\n      <td>18</td>\n      <td>Avellaneda</td>\n      <td>Av. Bartolomé Mitre 612</td>\n      <td>AVELLANEDA</td>\n      <td>BUENOS AIRES</td>\n      <td>-34,6610600</td>\n      <td>-58,3665150</td>\n    </tr>\n    <tr>\n      <th>18</th>\n      <td>19</td>\n      <td>Quilmes</td>\n      <td>Peatonal Rivadavia 185</td>\n      <td>QUILMES</td>\n      <td>BUENOS AIRES</td>\n      <td>-34,7222530</td>\n      <td>-58,2575760</td>\n    </tr>\n    <tr>\n      <th>19</th>\n      <td>20</td>\n      <td>La Plata</td>\n      <td>Calle 48 974</td>\n      <td>LA PLATA</td>\n      <td>BUENOS AIRES</td>\n      <td>-34,9207770</td>\n      <td>-57,9588890</td>\n    </tr>\n    <tr>\n      <th>20</th>\n      <td>21</td>\n      <td>MDQ1</td>\n      <td>San Martín 2544</td>\n      <td>MAR DEL PLATA</td>\n      <td>BUENOS AIRES</td>\n      <td>-37,9996910</td>\n      <td>-57,5463900</td>\n    </tr>\n    <tr>\n      <th>21</th>\n      <td>22</td>\n      <td>MDQ2</td>\n      <td>Belgrano 2847</td>\n      <td>MAR DEL PLATA</td>\n      <td>BUENOS AIRES</td>\n      <td>-37,9997630</td>\n      <td>-57,5505770</td>\n    </tr>\n    <tr>\n      <th>22</th>\n      <td>23</td>\n      <td>Rosario1</td>\n      <td>Av. Pellegrini 1138</td>\n      <td>ROSARIO</td>\n      <td>SANTA FE</td>\n      <td>-32,9570300</td>\n      <td>-60,6413540</td>\n    </tr>\n    <tr>\n      <th>23</th>\n      <td>24</td>\n      <td>Rosario2</td>\n      <td>Rueda 6349</td>\n      <td>ROSARIO</td>\n      <td>SANTA FE</td>\n      <td>-32,9627480</td>\n      <td>-60,7076290</td>\n    </tr>\n    <tr>\n      <th>24</th>\n      <td>25</td>\n      <td>Córdoba Centro</td>\n      <td>Av Colón 251</td>\n      <td>CÓRDOBA</td>\n      <td>CÓRDOBA</td>\n      <td>-31,4127470</td>\n      <td>-64,1864580</td>\n    </tr>\n    <tr>\n      <th>25</th>\n      <td>26</td>\n      <td>Córdoba Quiroz</td>\n      <td>Av Duarte Quirós 2910</td>\n      <td>COROBA</td>\n      <td>CÓRDOBA</td>\n      <td>-31,4075380</td>\n      <td>-64,2217380</td>\n    </tr>\n    <tr>\n      <th>26</th>\n      <td>27</td>\n      <td>Cerro de las Rosas</td>\n      <td>Av. Rafael Núñez 4764</td>\n      <td>CORDOBA</td>\n      <td>CORDOBA</td>\n      <td>-31,3612540</td>\n      <td>-64,2378170</td>\n    </tr>\n    <tr>\n      <th>27</th>\n      <td>28</td>\n      <td>Tucumán</td>\n      <td>Av. Sarmiento 525</td>\n      <td>SAN MIGUEL DE TUCUMÁN</td>\n      <td>TUCUMÁN</td>\n      <td>-26,8180450</td>\n      <td>-65,2040710</td>\n    </tr>\n    <tr>\n      <th>28</th>\n      <td>29</td>\n      <td>Mendoza1</td>\n      <td>Gutiérrez 349</td>\n      <td>MENDOZA</td>\n      <td>MENDOZA</td>\n      <td>-32,8875310</td>\n      <td>-68,8433080</td>\n    </tr>\n    <tr>\n      <th>29</th>\n      <td>30</td>\n      <td>Mendoza2</td>\n      <td>Av. Colón 255</td>\n      <td>MENDOZA</td>\n      <td>MENDOZA</td>\n      <td>-32,8942920</td>\n      <td>-68,8438020</td>\n    </tr>\n    <tr>\n      <th>30</th>\n      <td>31</td>\n      <td>Bariloche</td>\n      <td>Mitre 252</td>\n      <td>SAN CARLOS DE BARILOCHE</td>\n      <td>RÍO NEGRO</td>\n      <td>-41,1338280</td>\n      <td>-71,3063650</td>\n    </tr>\n  </tbody>\n</table>\n</div>"
     },
     "execution_count": 80,
     "metadata": {},
     "output_type": "execute_result"
    }
   ],
   "source": [
    "df_suc"
   ],
   "metadata": {
    "collapsed": false,
    "pycharm": {
     "name": "#%%\n"
    }
   }
  },
  {
   "cell_type": "code",
   "execution_count": null,
   "outputs": [],
   "source": [],
   "metadata": {
    "collapsed": false,
    "pycharm": {
     "name": "#%%\n"
    }
   }
  }
 ],
 "metadata": {
  "kernelspec": {
   "display_name": "Python 3",
   "language": "python",
   "name": "python3"
  },
  "language_info": {
   "codemirror_mode": {
    "name": "ipython",
    "version": 2
   },
   "file_extension": ".py",
   "mimetype": "text/x-python",
   "name": "python",
   "nbconvert_exporter": "python",
   "pygments_lexer": "ipython2",
   "version": "2.7.6"
  }
 },
 "nbformat": 4,
 "nbformat_minor": 0
}