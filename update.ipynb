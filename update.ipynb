{
 "cells": [
  {
   "cell_type": "code",
   "execution_count": 6,
   "outputs": [],
   "source": [
    "import pandas as pd\n",
    "import numpy as np\n",
    "import os\n",
    "from thefuzz import fuzz\n",
    "from thefuzz import process"
   ],
   "metadata": {
    "collapsed": false,
    "pycharm": {
     "name": "#%%\n"
    }
   }
  },
  {
   "cell_type": "markdown",
   "source": [],
   "metadata": {
    "collapsed": false,
    "pycharm": {
     "name": "#%% md\n"
    }
   }
  },
  {
   "cell_type": "code",
   "execution_count": 35,
   "outputs": [],
   "source": [
    "directory = './Datasets/'\n",
    "\n",
    "files_clientes = [f for f in os.listdir(directory) if ('Clientes' in f)]\n",
    "files_ventas = [f for f in os.listdir(directory) if ('Venta' in f and not 'Canal' in f)]"
   ],
   "metadata": {
    "collapsed": false,
    "pycharm": {
     "name": "#%%\n"
    }
   }
  },
  {
   "cell_type": "code",
   "execution_count": 36,
   "outputs": [],
   "source": [
    "def get_time_creation(file):\n",
    "    return os.stat(f'{directory}{file}').st_ctime\n",
    "\n",
    "def get_latest(files):\n",
    "    files.sort(key=get_time_creation)\n",
    "    return files[-1]\n"
   ],
   "metadata": {
    "collapsed": false,
    "pycharm": {
     "name": "#%%\n"
    }
   }
  },
  {
   "cell_type": "code",
   "execution_count": 37,
   "outputs": [],
   "source": [
    "latest_clientes = get_latest(files_clientes)\n",
    "latest_venta = get_latest(files_ventas)"
   ],
   "metadata": {
    "collapsed": false,
    "pycharm": {
     "name": "#%%\n"
    }
   }
  },
  {
   "cell_type": "code",
   "execution_count": 41,
   "outputs": [],
   "source": [
    "df_clientes = pd.read_csv(f'{directory}{latest_clientes}', delimiter=';', encoding='utf-8')\n",
    "df_ventas = pd.read_csv(f'{directory}{latest_venta}')"
   ],
   "metadata": {
    "collapsed": false,
    "pycharm": {
     "name": "#%%\n"
    }
   }
  },
  {
   "cell_type": "code",
   "execution_count": 43,
   "outputs": [
    {
     "data": {
      "text/plain": "     IdVenta       Fecha Fecha_Entrega  IdCanal  IdCliente  IdSucursal  \\\n0      47612  2020-12-01    2020-12-08        1       1667          13   \n1      47613  2020-12-01    2020-12-09        2        979           1   \n2      47614  2020-12-01    2020-12-04        2        708           1   \n3      47615  2020-12-01    2020-12-05        2        640           1   \n4      47616  2020-12-01    2020-12-07        1        524          14   \n..       ...         ...           ...      ...        ...         ...   \n460    48237  2020-12-30    2021-01-02        1       1368          20   \n461    48238  2020-12-30    2021-01-02        2        354          23   \n462    48239  2020-12-30    2021-01-06        2       2400          25   \n463    48240  2020-12-30    2021-01-03        2       1803          30   \n464    48241  2020-12-30    2021-01-02        2        226          31   \n\n     IdEmpleado  IdProducto   Precio  Cantidad  \n0          1674       42945  3210.00       3.0  \n1          1517       42988   598.00       2.0  \n2          1056       42883   498.00       2.0  \n3          1674       42922   741.00       2.0  \n4          1076       42933  1154.00       1.0  \n..          ...         ...      ...       ...  \n460        3186       42880   560.00       2.0  \n461        3504       42883   498.00       1.0  \n462        3622       42814   369.82       2.0  \n463        3864       42998   529.00       3.0  \n464        3205       42810  1282.82       2.0  \n\n[465 rows x 10 columns]",
      "text/html": "<div>\n<style scoped>\n    .dataframe tbody tr th:only-of-type {\n        vertical-align: middle;\n    }\n\n    .dataframe tbody tr th {\n        vertical-align: top;\n    }\n\n    .dataframe thead th {\n        text-align: right;\n    }\n</style>\n<table border=\"1\" class=\"dataframe\">\n  <thead>\n    <tr style=\"text-align: right;\">\n      <th></th>\n      <th>IdVenta</th>\n      <th>Fecha</th>\n      <th>Fecha_Entrega</th>\n      <th>IdCanal</th>\n      <th>IdCliente</th>\n      <th>IdSucursal</th>\n      <th>IdEmpleado</th>\n      <th>IdProducto</th>\n      <th>Precio</th>\n      <th>Cantidad</th>\n    </tr>\n  </thead>\n  <tbody>\n    <tr>\n      <th>0</th>\n      <td>47612</td>\n      <td>2020-12-01</td>\n      <td>2020-12-08</td>\n      <td>1</td>\n      <td>1667</td>\n      <td>13</td>\n      <td>1674</td>\n      <td>42945</td>\n      <td>3210.00</td>\n      <td>3.0</td>\n    </tr>\n    <tr>\n      <th>1</th>\n      <td>47613</td>\n      <td>2020-12-01</td>\n      <td>2020-12-09</td>\n      <td>2</td>\n      <td>979</td>\n      <td>1</td>\n      <td>1517</td>\n      <td>42988</td>\n      <td>598.00</td>\n      <td>2.0</td>\n    </tr>\n    <tr>\n      <th>2</th>\n      <td>47614</td>\n      <td>2020-12-01</td>\n      <td>2020-12-04</td>\n      <td>2</td>\n      <td>708</td>\n      <td>1</td>\n      <td>1056</td>\n      <td>42883</td>\n      <td>498.00</td>\n      <td>2.0</td>\n    </tr>\n    <tr>\n      <th>3</th>\n      <td>47615</td>\n      <td>2020-12-01</td>\n      <td>2020-12-05</td>\n      <td>2</td>\n      <td>640</td>\n      <td>1</td>\n      <td>1674</td>\n      <td>42922</td>\n      <td>741.00</td>\n      <td>2.0</td>\n    </tr>\n    <tr>\n      <th>4</th>\n      <td>47616</td>\n      <td>2020-12-01</td>\n      <td>2020-12-07</td>\n      <td>1</td>\n      <td>524</td>\n      <td>14</td>\n      <td>1076</td>\n      <td>42933</td>\n      <td>1154.00</td>\n      <td>1.0</td>\n    </tr>\n    <tr>\n      <th>...</th>\n      <td>...</td>\n      <td>...</td>\n      <td>...</td>\n      <td>...</td>\n      <td>...</td>\n      <td>...</td>\n      <td>...</td>\n      <td>...</td>\n      <td>...</td>\n      <td>...</td>\n    </tr>\n    <tr>\n      <th>460</th>\n      <td>48237</td>\n      <td>2020-12-30</td>\n      <td>2021-01-02</td>\n      <td>1</td>\n      <td>1368</td>\n      <td>20</td>\n      <td>3186</td>\n      <td>42880</td>\n      <td>560.00</td>\n      <td>2.0</td>\n    </tr>\n    <tr>\n      <th>461</th>\n      <td>48238</td>\n      <td>2020-12-30</td>\n      <td>2021-01-02</td>\n      <td>2</td>\n      <td>354</td>\n      <td>23</td>\n      <td>3504</td>\n      <td>42883</td>\n      <td>498.00</td>\n      <td>1.0</td>\n    </tr>\n    <tr>\n      <th>462</th>\n      <td>48239</td>\n      <td>2020-12-30</td>\n      <td>2021-01-06</td>\n      <td>2</td>\n      <td>2400</td>\n      <td>25</td>\n      <td>3622</td>\n      <td>42814</td>\n      <td>369.82</td>\n      <td>2.0</td>\n    </tr>\n    <tr>\n      <th>463</th>\n      <td>48240</td>\n      <td>2020-12-30</td>\n      <td>2021-01-03</td>\n      <td>2</td>\n      <td>1803</td>\n      <td>30</td>\n      <td>3864</td>\n      <td>42998</td>\n      <td>529.00</td>\n      <td>3.0</td>\n    </tr>\n    <tr>\n      <th>464</th>\n      <td>48241</td>\n      <td>2020-12-30</td>\n      <td>2021-01-02</td>\n      <td>2</td>\n      <td>226</td>\n      <td>31</td>\n      <td>3205</td>\n      <td>42810</td>\n      <td>1282.82</td>\n      <td>2.0</td>\n    </tr>\n  </tbody>\n</table>\n<p>465 rows × 10 columns</p>\n</div>"
     },
     "execution_count": 43,
     "metadata": {},
     "output_type": "execute_result"
    }
   ],
   "source": [
    "df_ventas"
   ],
   "metadata": {
    "collapsed": false,
    "pycharm": {
     "name": "#%%\n"
    }
   }
  }
 ],
 "metadata": {
  "kernelspec": {
   "display_name": "Python 3",
   "language": "python",
   "name": "python3"
  },
  "language_info": {
   "codemirror_mode": {
    "name": "ipython",
    "version": 2
   },
   "file_extension": ".py",
   "mimetype": "text/x-python",
   "name": "python",
   "nbconvert_exporter": "python",
   "pygments_lexer": "ipython2",
   "version": "2.7.6"
  }
 },
 "nbformat": 4,
 "nbformat_minor": 0
}